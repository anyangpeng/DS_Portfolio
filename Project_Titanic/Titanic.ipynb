{
    "cells": [
        {
            "cell_type": "markdown",
            "source": [
                "# Titanic Survival\n",
                "\n",
                "This Titanic dataset contains information about the passengers that can be used to predict their survival rate. Exploratory data analysis, feature engineering, and hyperparameter tuning will be discussed."
            ],
            "metadata": {}
        },
        {
            "cell_type": "markdown",
            "source": [
                "The dataset has the following columns:\n",
                "- PassengerID: index\n",
                "- Survived: whether the passenger survived\n",
                "- Pclass: ticket class\n",
                "- Name: name of the passerger, title\n",
                "- Sex: male or female\n",
                "- Age: age in years\n",
                "- Sibsp: number of siblings/ spouses aboard the Titanic\n",
                "- Parch: number of parents/ children aboard the Titanic\n",
                "- Ticket: ticket number\n",
                "- Fare: fare for ticket\n",
                "- Cabin: cabin number\n",
                "- Embarked: port of embarkation"
            ],
            "metadata": {}
        },
        {
            "cell_type": "code",
            "execution_count": 1,
            "source": [
                "import opendatasets as od\n",
                "import zipfile\n",
                "import os\n",
                "import warnings\n",
                "warnings.filterwarnings('ignore')\n",
                "import pandas as pd\n",
                "import numpy as np\n",
                "import matplotlib.pyplot as plt\n",
                "import seaborn as sns\n",
                "from sklearn.ensemble import RandomForestRegressor, RandomForestClassifier\n",
                "from sklearn.preprocessing import OneHotEncoder\n",
                "from sklearn.metrics import classification_report, confusion_matrix\n",
                "from sklearn.model_selection import RandomizedSearchCV\n",
                "\n"
            ],
            "outputs": [],
            "metadata": {}
        },
        {
            "cell_type": "markdown",
            "source": [
                "## Getting Data"
            ],
            "metadata": {}
        },
        {
            "cell_type": "code",
            "execution_count": 2,
            "source": [
                "# od.download(\"https://www.kaggle.com/c/titanic/data\")\n",
                "# with zipfile.ZipFile(os.path.join(os.curdir, \"titanic/titanic.zip\"), \"r\") as zip:\n",
                "#     zip.extractall(os.curdir)\n",
                "# os.remove(os.path.join(os.curdir, \"titanic/titanic.zip\"))\n",
                "# os.removedirs(os.path.join(os.curdir, \"titanic\"))\n",
                "train = pd.read_csv('train.csv')\n",
                "test = pd.read_csv('test.csv')"
            ],
            "outputs": [],
            "metadata": {}
        },
        {
            "cell_type": "markdown",
            "source": [
                "## General information about the dataset"
            ],
            "metadata": {}
        },
        {
            "cell_type": "code",
            "execution_count": 3,
            "source": [
                "train.info()\n",
                "print('\\n')\n",
                "print(train.isnull().sum())\n",
                "print('\\n')\n",
                "print(test.isnull().sum())"
            ],
            "outputs": [
                {
                    "output_type": "stream",
                    "name": "stdout",
                    "text": [
                        "<class 'pandas.core.frame.DataFrame'>\n",
                        "RangeIndex: 891 entries, 0 to 890\n",
                        "Data columns (total 12 columns):\n",
                        " #   Column       Non-Null Count  Dtype  \n",
                        "---  ------       --------------  -----  \n",
                        " 0   PassengerId  891 non-null    int64  \n",
                        " 1   Survived     891 non-null    int64  \n",
                        " 2   Pclass       891 non-null    int64  \n",
                        " 3   Name         891 non-null    object \n",
                        " 4   Sex          891 non-null    object \n",
                        " 5   Age          714 non-null    float64\n",
                        " 6   SibSp        891 non-null    int64  \n",
                        " 7   Parch        891 non-null    int64  \n",
                        " 8   Ticket       891 non-null    object \n",
                        " 9   Fare         891 non-null    float64\n",
                        " 10  Cabin        204 non-null    object \n",
                        " 11  Embarked     889 non-null    object \n",
                        "dtypes: float64(2), int64(5), object(5)\n",
                        "memory usage: 83.7+ KB\n",
                        "\n",
                        "\n",
                        "PassengerId      0\n",
                        "Survived         0\n",
                        "Pclass           0\n",
                        "Name             0\n",
                        "Sex              0\n",
                        "Age            177\n",
                        "SibSp            0\n",
                        "Parch            0\n",
                        "Ticket           0\n",
                        "Fare             0\n",
                        "Cabin          687\n",
                        "Embarked         2\n",
                        "dtype: int64\n",
                        "\n",
                        "\n",
                        "PassengerId      0\n",
                        "Pclass           0\n",
                        "Name             0\n",
                        "Sex              0\n",
                        "Age             86\n",
                        "SibSp            0\n",
                        "Parch            0\n",
                        "Ticket           0\n",
                        "Fare             1\n",
                        "Cabin          327\n",
                        "Embarked         0\n",
                        "dtype: int64\n"
                    ]
                }
            ],
            "metadata": {}
        },
        {
            "cell_type": "markdown",
            "source": [
                "As we can see, there are five categorical features (\"Name\", \"Sex\", \"Ticket\", \"Cabin\", \"Embarked\"), six numerical features (\"PassengerID\", \"Pclass\", \"Age\", \"SibSp\", \"Parch\", \"Fare\"), and a binary target (\"Survived\"). \"PassengerID\" is just an index column that carries no information about survival rate, so we can safely remove it from the dataset. \"Age\", \"Cabin\", and \"Fare\" all have missing values, so we have to try filling these missing values during data cleaning."
            ],
            "metadata": {}
        },
        {
            "cell_type": "markdown",
            "source": [
                "## Exploratory data analysis & Feature engineering\n",
                "\n",
                "Since the goal is to create a model that uses the given features to predict the survival rate (\"Survived\"), we need to investigate the correlation between these features and \"Survived\". In addition, we need to investigave the distributions of \"Age\", \"Fare\", and \"Cabin\" to fill the missing values.\n"
            ],
            "metadata": {}
        },
        {
            "cell_type": "markdown",
            "source": [
                "### Missing values - Age"
            ],
            "metadata": {}
        },
        {
            "cell_type": "code",
            "execution_count": 4,
            "source": [
                "# Age\n",
                "sns.displot(x='Age',data=train,kde=True, hue='Survived')"
            ],
            "outputs": [
                {
                    "output_type": "execute_result",
                    "data": {
                        "text/plain": [
                            "<seaborn.axisgrid.FacetGrid at 0x7ffe58220ca0>"
                        ]
                    },
                    "metadata": {},
                    "execution_count": 4
                },
                {
                    "output_type": "display_data",
                    "data": {
                        "text/plain": [
                            "<Figure size 411.875x360 with 1 Axes>"
                        ],
                        "image/png": "[encoded data removed]"
                    },
                    "metadata": {
                        "needs_background": "light"
                    }
                }
            ],
            "metadata": {}
        },
        {
            "cell_type": "markdown",
            "source": [
                "In terms of age distribution, there is a clear difference between survived group and non-survived group. In other words, \"Age\" carries important information about the survival rate. Let's see how to impute missing values in \"Age\". Technically, we could investigate how \"Age\" depends on the other features and predict missing values with a regression model. However, not all features are relevant. We can choose a few important features."
            ],
            "metadata": {}
        },
        {
            "cell_type": "code",
            "execution_count": 5,
            "source": [
                "train.drop(columns='PassengerId').corr()['Age'].abs().sort_values(ascending=False)"
            ],
            "outputs": [
                {
                    "output_type": "execute_result",
                    "data": {
                        "text/plain": [
                            "Age         1.000000\n",
                            "Pclass      0.369226\n",
                            "SibSp       0.308247\n",
                            "Parch       0.189119\n",
                            "Fare        0.096067\n",
                            "Survived    0.077221\n",
                            "Name: Age, dtype: float64"
                        ]
                    },
                    "metadata": {},
                    "execution_count": 5
                }
            ],
            "metadata": {}
        },
        {
            "cell_type": "code",
            "execution_count": 6,
            "source": [
                "sns.boxplot(x='Sex',y='Age',data=train)\n"
            ],
            "outputs": [
                {
                    "output_type": "execute_result",
                    "data": {
                        "text/plain": [
                            "<AxesSubplot:xlabel='Sex', ylabel='Age'>"
                        ]
                    },
                    "metadata": {},
                    "execution_count": 6
                },
                {
                    "output_type": "display_data",
                    "data": {
                        "text/plain": [
                            "<Figure size 432x288 with 1 Axes>"
                        ],
                        "image/png": "[encoded data removed]"
                    },
                    "metadata": {
                        "needs_background": "light"
                    }
                }
            ],
            "metadata": {}
        },
        {
            "cell_type": "markdown",
            "source": [
                "There seems to be a high correlation between \"age\" and \"Pclass\", \"SibSp\" and \"Parch\". There is also a difference in \"age\" between the male and female groups. Therefore a regression model is built based on those four features."
            ],
            "metadata": {}
        },
        {
            "cell_type": "code",
            "execution_count": 7,
            "source": [
                "# Encoding Sex\n",
                "train.Sex = train.Sex.str.get_dummies()['female']\n",
                "test.Sex = test.Sex.str.get_dummies()['female']\n",
                "\n",
                "x_age_train = train[train['Age'].notnull()][['Pclass','Sex','SibSp','Parch']]\n",
                "y_age_train = train[train['Age'].notnull()]['Age']\n",
                "\n",
                "rtr = RandomForestRegressor(n_estimators=100)\n",
                "rtr.fit(x_age_train,y_age_train)\n",
                "\n",
                "# Imputing Age\n",
                "def age_impute(row, model):\n",
                "    if np.isnan(row['Age']):\n",
                "        row['Age'] = int(model.predict([[row['Pclass'],row['Sex'],row['SibSp'],row['Parch']]]))\n",
                "        return row\n",
                "    else:\n",
                "        return row\n",
                "        \n",
                "for i in range(len(train)):\n",
                "    train.iloc[i] = age_impute(train.iloc[i],rtr)\n",
                "\n",
                "for i in range(len(test)):\n",
                "    test.iloc[i] = age_impute(test.iloc[i],rtr)"
            ],
            "outputs": [],
            "metadata": {}
        },
        {
            "cell_type": "markdown",
            "source": [
                "### Missing values - Cabin\n",
                "\n",
                "Almost 80% of the \"Cabin\" information is missing. There won't be a reliable way of imputing those values. The first letter of the Cabin values are the decks in which the cabins are located. Let's see if there is any pattern to the \"Cabin\" based survival rate.\n"
            ],
            "metadata": {}
        },
        {
            "cell_type": "code",
            "execution_count": 8,
            "source": [
                "train.Cabin = train.Cabin.apply(lambda x: x[0] if pd.notna(x) else 'M')\n",
                "\n",
                "fig, (ax1,ax2) = plt.subplots(1,2)\n",
                "fig.set_size_inches(10,5)\n",
                "# Survival rate based on Cabin\n",
                "percent = train[train.Survived == 0].Cabin.value_counts()/train.Cabin.value_counts()*100\n",
                "ax1.bar(x=percent.index, height=percent, color='#FF6666')\n",
                "ax1.bar(x=percent.index, height=100-percent, bottom=percent, color='#00CC00')\n",
                "ax1.legend([\"Not Survived\", \"Survived\"], bbox_to_anchor=(1, 1))\n",
                "ax1.set_title(\"'Cabin'-based Survival Rate\")\n",
                "fig.tight_layout()\n",
                "\n",
                "# Cabin Distribution\n",
                "_ = ax2.pie(x=train.Cabin.value_counts(),explode=(0.1,0.1,0.1,0.1,0.1,0.1,0.1,0.1,0.1))\n",
                "ax2.legend(train.Cabin.value_counts().index, bbox_to_anchor=(1, 1))\n",
                "ax2.set_title(\"'Cabin' Distribution\")\n"
            ],
            "outputs": [
                {
                    "output_type": "execute_result",
                    "data": {
                        "text/plain": [
                            "Text(0.5, 1.0, \"'Cabin' Distribution\")"
                        ]
                    },
                    "metadata": {},
                    "execution_count": 8
                },
                {
                    "output_type": "display_data",
                    "data": {
                        "text/plain": [
                            "<Figure size 720x360 with 2 Axes>"
                        ],
                        "image/png": "[encoded data removed]"
                    },
                    "metadata": {
                        "needs_background": "light"
                    }
                }
            ],
            "metadata": {}
        },
        {
            "cell_type": "markdown",
            "source": [
                "Now we could simply encode all the different \"Cabin\" groups, but that would produce too many features. A better approah is to group centain \"Cabin\" together based on survival rate. Here we group the \"Cabin\" into three categories: M (missing), BCDEF (survival rate > 50%), and AGT (survival rate <50%)."
            ],
            "metadata": {}
        },
        {
            "cell_type": "code",
            "execution_count": 9,
            "source": [
                "train.Cabin = train.Cabin.replace(['A','G','T'], 'AGT')\n",
                "train.Cabin = train.Cabin.replace(['B','C','D','E','F'], 'BCDEF')\n",
                "\n",
                "# Transforming test set\n",
                "test.Cabin = test.Cabin.apply(lambda x: x[0] if pd.notna(x) else 'M')\n",
                "test.Cabin = test.Cabin.replace(['A','G','T'], 'AGT')\n",
                "test.Cabin = test.Cabin.replace(['B','C','D','E','F'], 'BCDEF')\n",
                "\n"
            ],
            "outputs": [],
            "metadata": {}
        },
        {
            "cell_type": "markdown",
            "source": [
                "### Missing values - Embarked\n",
                "\n",
                "There are only two missing values. References say those two passengers embarked from S (Southampton)."
            ],
            "metadata": {}
        },
        {
            "cell_type": "code",
            "execution_count": 10,
            "source": [
                "train.Embarked = train.Embarked.fillna('S')"
            ],
            "outputs": [],
            "metadata": {}
        },
        {
            "cell_type": "markdown",
            "source": [
                "### Missing values - Fare\n",
                "\n",
                "Only one missing values in the test set. This value can be imputed from the samples, who travel alone with a 3rd class ticket.\n"
            ],
            "metadata": {}
        },
        {
            "cell_type": "code",
            "execution_count": 11,
            "source": [
                "imputed_fare = test.groupby(['Pclass','Parch','SibSp']).Fare.median()[3][0][0]\n",
                "test.Fare = test.Fare.fillna(imputed_fare)\n"
            ],
            "outputs": [],
            "metadata": {}
        },
        {
            "cell_type": "markdown",
            "source": [
                "Now let's check if we have filled all the missing values."
            ],
            "metadata": {}
        },
        {
            "cell_type": "code",
            "execution_count": 12,
            "source": [
                "print('\\n')\n",
                "print(train.isnull().sum())\n",
                "print('\\n')\n",
                "print(test.isnull().sum())"
            ],
            "outputs": [
                {
                    "output_type": "stream",
                    "name": "stdout",
                    "text": [
                        "\n",
                        "\n",
                        "PassengerId    0\n",
                        "Survived       0\n",
                        "Pclass         0\n",
                        "Name           0\n",
                        "Sex            0\n",
                        "Age            0\n",
                        "SibSp          0\n",
                        "Parch          0\n",
                        "Ticket         0\n",
                        "Fare           0\n",
                        "Cabin          0\n",
                        "Embarked       0\n",
                        "dtype: int64\n",
                        "\n",
                        "\n",
                        "PassengerId    0\n",
                        "Pclass         0\n",
                        "Name           0\n",
                        "Sex            0\n",
                        "Age            0\n",
                        "SibSp          0\n",
                        "Parch          0\n",
                        "Ticket         0\n",
                        "Fare           0\n",
                        "Cabin          0\n",
                        "Embarked       0\n",
                        "dtype: int64\n"
                    ]
                }
            ],
            "metadata": {}
        },
        {
            "cell_type": "markdown",
            "source": [
                "### Pclass\n",
                "\n",
                "Let's look at the survival rate based on \"Pclass\"."
            ],
            "metadata": {}
        },
        {
            "cell_type": "code",
            "execution_count": 13,
            "source": [
                "sns.countplot(x=train.Pclass, hue=train.Survived)"
            ],
            "outputs": [
                {
                    "output_type": "execute_result",
                    "data": {
                        "text/plain": [
                            "<AxesSubplot:xlabel='Pclass', ylabel='count'>"
                        ]
                    },
                    "metadata": {},
                    "execution_count": 13
                },
                {
                    "output_type": "display_data",
                    "data": {
                        "text/plain": [
                            "<Figure size 432x288 with 1 Axes>"
                        ],
                        "image/png": "[encoded data removed]"
                    },
                    "metadata": {
                        "needs_background": "light"
                    }
                }
            ],
            "metadata": {}
        },
        {
            "cell_type": "markdown",
            "source": [
                "As expected, 1st class has the highest survival rate, and 3rd class has the lowest survival rate.\n",
                "\n",
                "### Embarked\n",
                "\n",
                "Does the port of embarkation correlates to survival rate?"
            ],
            "metadata": {}
        },
        {
            "cell_type": "code",
            "execution_count": 14,
            "source": [
                "fig, (ax1,ax2) = plt.subplots(1,2)\n",
                "fig.set_size_inches(10,5)\n",
                "\n",
                "sns.countplot(ax=ax1, x=train.Embarked, hue=train.Survived)\n",
                "sns.countplot(ax=ax2, x=train.Embarked, hue=train.Pclass)"
            ],
            "outputs": [
                {
                    "output_type": "execute_result",
                    "data": {
                        "text/plain": [
                            "<AxesSubplot:xlabel='Embarked', ylabel='count'>"
                        ]
                    },
                    "metadata": {},
                    "execution_count": 14
                },
                {
                    "output_type": "display_data",
                    "data": {
                        "text/plain": [
                            "<Figure size 720x360 with 2 Axes>"
                        ],
                        "image/png": "[encoded data removed]"
                    },
                    "metadata": {
                        "needs_background": "light"
                    }
                }
            ],
            "metadata": {}
        },
        {
            "cell_type": "markdown",
            "source": [
                "The trend observed in \"Embarked\" is mostly due to diffences in \"Place\". As we can see, for port C, 1st & 2nd class passengers are more than 3rd class passengers, thus it has the highest survial rate.\n",
                "\n",
                "### Parch"
            ],
            "metadata": {}
        },
        {
            "cell_type": "code",
            "execution_count": 15,
            "source": [
                "fig, (ax1,ax2) = plt.subplots(1,2)\n",
                "fig.set_size_inches(10,5)\n",
                "\n",
                "sns.countplot(ax=ax1,x=train[train.Parch <=2].Parch, hue=train.Survived)\n",
                "sns.countplot(ax=ax2,x=train[train.Parch >2].Parch, hue=train.Survived)"
            ],
            "outputs": [
                {
                    "output_type": "execute_result",
                    "data": {
                        "text/plain": [
                            "<AxesSubplot:xlabel='Parch', ylabel='count'>"
                        ]
                    },
                    "metadata": {},
                    "execution_count": 15
                },
                {
                    "output_type": "display_data",
                    "data": {
                        "text/plain": [
                            "<Figure size 720x360 with 2 Axes>"
                        ],
                        "image/png": "[encoded data removed]"
                    },
                    "metadata": {
                        "needs_background": "light"
                    }
                }
            ],
            "metadata": {}
        },
        {
            "cell_type": "markdown",
            "source": [
                "It appears that most of the passengers have 0 \"Parch\", and about 1/3 of them survived. For passengers with 1~3 \"Parch\", they have a higher survival rate. When \"Parch\" is greater than 3, the survial rate is significantly lower.\n",
                "\n",
                "### SibSp"
            ],
            "metadata": {}
        },
        {
            "cell_type": "code",
            "execution_count": 16,
            "source": [
                "fig, (ax1,ax2) = plt.subplots(1,2)\n",
                "fig.set_size_inches(10,5)\n",
                "\n",
                "sns.countplot(ax=ax1,x=train[train.SibSp <=2].SibSp, hue=train.Survived)\n",
                "sns.countplot(ax=ax2,x=train[train.SibSp >2].SibSp, hue=train.Survived)"
            ],
            "outputs": [
                {
                    "output_type": "execute_result",
                    "data": {
                        "text/plain": [
                            "<AxesSubplot:xlabel='SibSp', ylabel='count'>"
                        ]
                    },
                    "metadata": {},
                    "execution_count": 16
                },
                {
                    "output_type": "display_data",
                    "data": {
                        "text/plain": [
                            "<Figure size 720x360 with 2 Axes>"
                        ],
                        "image/png": "[encoded data removed]"
                    },
                    "metadata": {
                        "needs_background": "light"
                    }
                }
            ],
            "metadata": {}
        },
        {
            "cell_type": "markdown",
            "source": [
                "Instead of using \"Parch\" and \"SibSp\" as numerical features, we could creat subgroups based on the family size, but that would lead to more features during encoding. For \"Name\", we could extract a bit more information from the prefix or titles. To avoid overfitting, we will just use the features we currently have.\n",
                "\n"
            ],
            "metadata": {}
        },
        {
            "cell_type": "markdown",
            "source": [
                "## Encoding"
            ],
            "metadata": {}
        },
        {
            "cell_type": "code",
            "execution_count": 17,
            "source": [
                "encoder = OneHotEncoder(drop='first')\n",
                "encoded_train = encoder.fit_transform(train[['Cabin','Embarked']])\n",
                "encoded_train = pd.DataFrame(encoded_train.toarray(),index=train.index,columns=['Cabin_BCDEF','Cabin_AGT','Port_C','Port_Q'])\n",
                "train = pd.concat([train, encoded_train], axis=1)\n",
                "\n",
                "encoded_test = encoder.transform(test[['Cabin','Embarked']])\n",
                "encoded_test = pd.DataFrame(encoded_test.toarray(),index=test.index,columns=['Cabin_BCDEF','Cabin_AGT','Port_C','Port_Q'])\n",
                "test = pd.concat([test, encoded_test], axis=1)\n",
                "\n",
                "X_train = train.drop(columns=['PassengerId','Name','Embarked','Ticket','Cabin','Survived'])\n",
                "y_train = train['Survived']\n",
                "\n",
                "X_test = test.drop(columns=['PassengerId','Name','Embarked','Ticket','Cabin'])\n",
                "y_test = pd.read_csv('gender_submission.csv', sep=',')['Survived']\n"
            ],
            "outputs": [],
            "metadata": {}
        },
        {
            "cell_type": "code",
            "execution_count": 18,
            "source": [
                "# Final look on correlation\n",
                "sns.heatmap(train.drop(columns='PassengerId').corr(),cmap='Purples')"
            ],
            "outputs": [
                {
                    "output_type": "execute_result",
                    "data": {
                        "text/plain": [
                            "<AxesSubplot:>"
                        ]
                    },
                    "metadata": {},
                    "execution_count": 18
                },
                {
                    "output_type": "display_data",
                    "data": {
                        "text/plain": [
                            "<Figure size 432x288 with 2 Axes>"
                        ],
                        "image/png": "[encoded data removed]"
                    },
                    "metadata": {
                        "needs_background": "light"
                    }
                }
            ],
            "metadata": {}
        },
        {
            "cell_type": "markdown",
            "source": [
                "## Building Model"
            ],
            "metadata": {}
        },
        {
            "cell_type": "code",
            "execution_count": 19,
            "source": [
                "rfc = RandomForestClassifier(n_estimators=50)\n",
                "rfc.fit(X_train, y_train)\n",
                "print(classification_report(y_test, rfc.predict(X_test)))\n"
            ],
            "outputs": [
                {
                    "output_type": "stream",
                    "name": "stdout",
                    "text": [
                        "              precision    recall  f1-score   support\n",
                        "\n",
                        "           0       0.85      0.83      0.84       266\n",
                        "           1       0.72      0.74      0.73       152\n",
                        "\n",
                        "    accuracy                           0.80       418\n",
                        "   macro avg       0.78      0.79      0.78       418\n",
                        "weighted avg       0.80      0.80      0.80       418\n",
                        "\n"
                    ]
                }
            ],
            "metadata": {}
        },
        {
            "cell_type": "code",
            "execution_count": 20,
            "source": [
                "sns.heatmap(confusion_matrix(y_test, rfc.predict(X_test)), cmap='Greens')\n",
                "plt.xlabel('Predicted')\n",
                "plt.ylabel('Actual')"
            ],
            "outputs": [
                {
                    "output_type": "execute_result",
                    "data": {
                        "text/plain": [
                            "Text(33.0, 0.5, 'Actual')"
                        ]
                    },
                    "metadata": {},
                    "execution_count": 20
                },
                {
                    "output_type": "display_data",
                    "data": {
                        "text/plain": [
                            "<Figure size 432x288 with 2 Axes>"
                        ],
                        "image/png": "[encoded data removed]"
                    },
                    "metadata": {
                        "needs_background": "light"
                    }
                }
            ],
            "metadata": {}
        },
        {
            "cell_type": "markdown",
            "source": [
                "## Hyperparameter tuning"
            ],
            "metadata": {}
        },
        {
            "cell_type": "code",
            "execution_count": 21,
            "source": [
                "random_grid = {\n",
                "    'n_estimators': [128, 256, 512], \n",
                "    'criterion':['gini','entropy'],\n",
                "    'max_depth':[20,40,60,80,100,120,None],\n",
                "    'min_samples_split':[2,4,6,8,10],\n",
                "    'min_samples_leaf':[1,2,4],\n",
                "    'max_features':['auto','log2', None],\n",
                "    'bootstrap':[True, False]\n",
                "}\n",
                "rfc = RandomForestClassifier()\n",
                "rfc_random_search = RandomizedSearchCV(estimator=rfc, param_distributions=random_grid, n_iter=100,random_state=42,n_jobs=-1)\n",
                "rfc_random_search.fit(X_train, y_train)\n",
                "print(classification_report(y_test, rfc_random_search.predict(X_test)))\n"
            ],
            "outputs": [
                {
                    "output_type": "stream",
                    "name": "stdout",
                    "text": [
                        "              precision    recall  f1-score   support\n",
                        "\n",
                        "           0       0.88      0.89      0.88       266\n",
                        "           1       0.81      0.78      0.79       152\n",
                        "\n",
                        "    accuracy                           0.85       418\n",
                        "   macro avg       0.84      0.84      0.84       418\n",
                        "weighted avg       0.85      0.85      0.85       418\n",
                        "\n"
                    ]
                }
            ],
            "metadata": {}
        },
        {
            "cell_type": "code",
            "execution_count": 22,
            "source": [
                "sns.heatmap(confusion_matrix(y_test, rfc_random_search.predict(X_test)), cmap='Greens')\n",
                "plt.xlabel('Predicted')\n",
                "plt.ylabel('Actual')"
            ],
            "outputs": [
                {
                    "output_type": "execute_result",
                    "data": {
                        "text/plain": [
                            "Text(33.0, 0.5, 'Actual')"
                        ]
                    },
                    "metadata": {},
                    "execution_count": 22
                },
                {
                    "output_type": "display_data",
                    "data": {
                        "text/plain": [
                            "<Figure size 432x288 with 2 Axes>"
                        ],
                        "image/png": "[encoded data removed]"
                    },
                    "metadata": {
                        "needs_background": "light"
                    }
                }
            ],
            "metadata": {}
        },
        {
            "cell_type": "markdown",
            "source": [
                "After random search, the model finds a better set of hyperparameters and the classification performance increased by about 5%."
            ],
            "metadata": {}
        }
    ],
    "metadata": {
        "orig_nbformat": 4,
        "language_info": {
            "name": "python",
            "version": "3.8.5",
            "mimetype": "text/x-python",
            "codemirror_mode": {
                "name": "ipython",
                "version": 3
            },
            "pygments_lexer": "ipython3",
            "nbconvert_exporter": "python",
            "file_extension": ".py"
        },
        "kernelspec": {
            "name": "python3",
            "display_name": "Python 3.8.5 64-bit"
        },
        "interpreter": {
            "hash": "aee8b7b246df8f9039afb4144a1f6fd8d2ca17a180786b69acc140d282b71a49"
        }
    },
    "nbformat": 4,
    "nbformat_minor": 2
}