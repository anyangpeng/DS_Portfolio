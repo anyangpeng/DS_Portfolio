{
 "metadata": {
  "language_info": {
   "codemirror_mode": {
    "name": "ipython",
    "version": 3
   },
   "file_extension": ".py",
   "mimetype": "text/x-python",
   "name": "python",
   "nbconvert_exporter": "python",
   "pygments_lexer": "ipython3",
   "version": "3.8.5-final"
  },
  "orig_nbformat": 2,
  "kernelspec": {
   "name": "python3",
   "display_name": "Python 3.8.5 64-bit",
   "metadata": {
    "interpreter": {
     "hash": "aee8b7b246df8f9039afb4144a1f6fd8d2ca17a180786b69acc140d282b71a49"
    }
   }
  }
 },
 "nbformat": 4,
 "nbformat_minor": 2,
 "cells": [
  {
   "source": [
    "## Canada - Admissions of Permanent Residents by Country of Citizenship, January 2015 - December 2020"
   ],
   "cell_type": "markdown",
   "metadata": {}
  },
  {
   "source": [
    "### Introduction\n",
    "\n",
    "Over the past few years, Immigration, Refugees and Citizenship Canada (IRCC) has repeatedly announced its ambitious immigration plans, which has attracted great attention from public media and prospective candidates. The pandemic, starting from last year, undoubtedly imposed a significant challenge to the immigration system and left many questions regarding the application admission process unanswered.\n",
    "\n",
    "By analyzing the admission data, we try to answer the following questions:\n"
   ],
   "cell_type": "markdown",
   "metadata": {}
  },
  {
   "source": [
    "### Load and Clean Data"
   ],
   "cell_type": "markdown",
   "metadata": {}
  },
  {
   "cell_type": "code",
   "execution_count": 1,
   "metadata": {},
   "outputs": [],
   "source": [
    "import pandas as pd\n",
    "import os\n",
    "import xlrd\n"
   ]
  },
  {
   "cell_type": "code",
   "execution_count": 2,
   "metadata": {},
   "outputs": [],
   "source": [
    "# Loading raw data download from IRCC website\n",
    "file = os.path.join(os.getcwd(),'IRCC_M_PRadmiss_0002_E.xls')\n",
    "# Read data and remove header & footer\n",
    "data = pd.read_excel(file,skiprows=4,skipfooter=4)"
   ]
  },
  {
   "cell_type": "code",
   "execution_count": 3,
   "metadata": {},
   "outputs": [
    {
     "output_type": "execute_result",
     "data": {
      "text/plain": [
       "    Unnamed: 0 Jan  Feb  Mar Q1 Total  Apr  May  Jun Q2 Total  Jul  ...  \\\n",
       "0  Afghanistan  90  125  220      435  135  220  195      555  250  ...   \n",
       "1      Albania  15   25   50       90   45   45   75      165   45  ...   \n",
       "2      Algeria  80  125  235      440  255  340  280      875  310  ...   \n",
       "3      Andorra   0    0    0        0   --    0    0       --    0  ...   \n",
       "4       Angola  --    0   --       --   10   --   --       15   --  ...   \n",
       "\n",
       "  Q2 Total.5 Jul.5 Aug.5 Sep.5 Q3 Total.5 Oct.5 Nov.5 Dec.5 Q4 Total.5  \\\n",
       "0         95    85    95   180        360   120   185   160        465   \n",
       "1         45    30    20    20         70    20    30    10         60   \n",
       "2        260   335   440   310       1085   270   175   200        645   \n",
       "3          0     0     0     0          0     0     0     0          0   \n",
       "4         --    --    --    --         10     5    --    --         10   \n",
       "\n",
       "  Unnamed: 102  \n",
       "0         1655  \n",
       "1          285  \n",
       "2         2715  \n",
       "3            0  \n",
       "4           35  \n",
       "\n",
       "[5 rows x 103 columns]"
      ],
      "text/html": "<div>\n<style scoped>\n    .dataframe tbody tr th:only-of-type {\n        vertical-align: middle;\n    }\n\n    .dataframe tbody tr th {\n        vertical-align: top;\n    }\n\n    .dataframe thead th {\n        text-align: right;\n    }\n</style>\n<table border=\"1\" class=\"dataframe\">\n  <thead>\n    <tr style=\"text-align: right;\">\n      <th></th>\n      <th>Unnamed: 0</th>\n      <th>Jan</th>\n      <th>Feb</th>\n      <th>Mar</th>\n      <th>Q1 Total</th>\n      <th>Apr</th>\n      <th>May</th>\n      <th>Jun</th>\n      <th>Q2 Total</th>\n      <th>Jul</th>\n      <th>...</th>\n      <th>Q2 Total.5</th>\n      <th>Jul.5</th>\n      <th>Aug.5</th>\n      <th>Sep.5</th>\n      <th>Q3 Total.5</th>\n      <th>Oct.5</th>\n      <th>Nov.5</th>\n      <th>Dec.5</th>\n      <th>Q4 Total.5</th>\n      <th>Unnamed: 102</th>\n    </tr>\n  </thead>\n  <tbody>\n    <tr>\n      <th>0</th>\n      <td>Afghanistan</td>\n      <td>90</td>\n      <td>125</td>\n      <td>220</td>\n      <td>435</td>\n      <td>135</td>\n      <td>220</td>\n      <td>195</td>\n      <td>555</td>\n      <td>250</td>\n      <td>...</td>\n      <td>95</td>\n      <td>85</td>\n      <td>95</td>\n      <td>180</td>\n      <td>360</td>\n      <td>120</td>\n      <td>185</td>\n      <td>160</td>\n      <td>465</td>\n      <td>1655</td>\n    </tr>\n    <tr>\n      <th>1</th>\n      <td>Albania</td>\n      <td>15</td>\n      <td>25</td>\n      <td>50</td>\n      <td>90</td>\n      <td>45</td>\n      <td>45</td>\n      <td>75</td>\n      <td>165</td>\n      <td>45</td>\n      <td>...</td>\n      <td>45</td>\n      <td>30</td>\n      <td>20</td>\n      <td>20</td>\n      <td>70</td>\n      <td>20</td>\n      <td>30</td>\n      <td>10</td>\n      <td>60</td>\n      <td>285</td>\n    </tr>\n    <tr>\n      <th>2</th>\n      <td>Algeria</td>\n      <td>80</td>\n      <td>125</td>\n      <td>235</td>\n      <td>440</td>\n      <td>255</td>\n      <td>340</td>\n      <td>280</td>\n      <td>875</td>\n      <td>310</td>\n      <td>...</td>\n      <td>260</td>\n      <td>335</td>\n      <td>440</td>\n      <td>310</td>\n      <td>1085</td>\n      <td>270</td>\n      <td>175</td>\n      <td>200</td>\n      <td>645</td>\n      <td>2715</td>\n    </tr>\n    <tr>\n      <th>3</th>\n      <td>Andorra</td>\n      <td>0</td>\n      <td>0</td>\n      <td>0</td>\n      <td>0</td>\n      <td>--</td>\n      <td>0</td>\n      <td>0</td>\n      <td>--</td>\n      <td>0</td>\n      <td>...</td>\n      <td>0</td>\n      <td>0</td>\n      <td>0</td>\n      <td>0</td>\n      <td>0</td>\n      <td>0</td>\n      <td>0</td>\n      <td>0</td>\n      <td>0</td>\n      <td>0</td>\n    </tr>\n    <tr>\n      <th>4</th>\n      <td>Angola</td>\n      <td>--</td>\n      <td>0</td>\n      <td>--</td>\n      <td>--</td>\n      <td>10</td>\n      <td>--</td>\n      <td>--</td>\n      <td>15</td>\n      <td>--</td>\n      <td>...</td>\n      <td>--</td>\n      <td>--</td>\n      <td>--</td>\n      <td>--</td>\n      <td>10</td>\n      <td>5</td>\n      <td>--</td>\n      <td>--</td>\n      <td>10</td>\n      <td>35</td>\n    </tr>\n  </tbody>\n</table>\n<p>5 rows × 103 columns</p>\n</div>"
     },
     "metadata": {},
     "execution_count": 3
    }
   ],
   "source": [
    "# Examine data\n",
    "data.head()"
   ]
  },
  {
   "source": [
    "There are obvious issues with the raw data: i) the column names need to be corrected and add year information. ii) the missing valeus may need to be inputed based on use case."
   ],
   "cell_type": "markdown",
   "metadata": {}
  },
  {
   "cell_type": "code",
   "execution_count": 4,
   "metadata": {},
   "outputs": [
    {
     "output_type": "execute_result",
     "data": {
      "text/plain": [
       "            Jan, 2015 Feb, 2015 Mar, 2015 Q1 Total, 2015 Apr, 2015 May, 2015  \\\n",
       "Country                                                                        \n",
       "Afghanistan        90       125       220            435       135       220   \n",
       "Albania            15        25        50             90        45        45   \n",
       "Algeria            80       125       235            440       255       340   \n",
       "Andorra             0         0         0              0        --         0   \n",
       "Angola             --         0        --             --        10        --   \n",
       "\n",
       "            Jun, 2015 Q2 Total, 2015 Jul, 2015 Aug, 2015  ... Q2 Total, 2020  \\\n",
       "Country                                                   ...                  \n",
       "Afghanistan       195            555       250       145  ...             95   \n",
       "Albania            75            165        45        65  ...             45   \n",
       "Algeria           280            875       310       280  ...            260   \n",
       "Andorra             0             --         0        --  ...              0   \n",
       "Angola             --             15        --        --  ...             --   \n",
       "\n",
       "            Jul, 2020 Aug, 2020 Sep, 2020 Q3 Total, 2020 Oct, 2020 Nov, 2020  \\\n",
       "Country                                                                        \n",
       "Afghanistan        85        95       180            360       120       185   \n",
       "Albania            30        20        20             70        20        30   \n",
       "Algeria           335       440       310           1085       270       175   \n",
       "Andorra             0         0         0              0         0         0   \n",
       "Angola             --        --        --             10         5        --   \n",
       "\n",
       "            Dec, 2020 Q4 Total, 2020 Total, 2020  \n",
       "Country                                           \n",
       "Afghanistan       160            465        1655  \n",
       "Albania            10             60         285  \n",
       "Algeria           200            645        2715  \n",
       "Andorra             0              0           0  \n",
       "Angola             --             10          35  \n",
       "\n",
       "[5 rows x 102 columns]"
      ],
      "text/html": "<div>\n<style scoped>\n    .dataframe tbody tr th:only-of-type {\n        vertical-align: middle;\n    }\n\n    .dataframe tbody tr th {\n        vertical-align: top;\n    }\n\n    .dataframe thead th {\n        text-align: right;\n    }\n</style>\n<table border=\"1\" class=\"dataframe\">\n  <thead>\n    <tr style=\"text-align: right;\">\n      <th></th>\n      <th>Jan, 2015</th>\n      <th>Feb, 2015</th>\n      <th>Mar, 2015</th>\n      <th>Q1 Total, 2015</th>\n      <th>Apr, 2015</th>\n      <th>May, 2015</th>\n      <th>Jun, 2015</th>\n      <th>Q2 Total, 2015</th>\n      <th>Jul, 2015</th>\n      <th>Aug, 2015</th>\n      <th>...</th>\n      <th>Q2 Total, 2020</th>\n      <th>Jul, 2020</th>\n      <th>Aug, 2020</th>\n      <th>Sep, 2020</th>\n      <th>Q3 Total, 2020</th>\n      <th>Oct, 2020</th>\n      <th>Nov, 2020</th>\n      <th>Dec, 2020</th>\n      <th>Q4 Total, 2020</th>\n      <th>Total, 2020</th>\n    </tr>\n    <tr>\n      <th>Country</th>\n      <th></th>\n      <th></th>\n      <th></th>\n      <th></th>\n      <th></th>\n      <th></th>\n      <th></th>\n      <th></th>\n      <th></th>\n      <th></th>\n      <th></th>\n      <th></th>\n      <th></th>\n      <th></th>\n      <th></th>\n      <th></th>\n      <th></th>\n      <th></th>\n      <th></th>\n      <th></th>\n      <th></th>\n    </tr>\n  </thead>\n  <tbody>\n    <tr>\n      <th>Afghanistan</th>\n      <td>90</td>\n      <td>125</td>\n      <td>220</td>\n      <td>435</td>\n      <td>135</td>\n      <td>220</td>\n      <td>195</td>\n      <td>555</td>\n      <td>250</td>\n      <td>145</td>\n      <td>...</td>\n      <td>95</td>\n      <td>85</td>\n      <td>95</td>\n      <td>180</td>\n      <td>360</td>\n      <td>120</td>\n      <td>185</td>\n      <td>160</td>\n      <td>465</td>\n      <td>1655</td>\n    </tr>\n    <tr>\n      <th>Albania</th>\n      <td>15</td>\n      <td>25</td>\n      <td>50</td>\n      <td>90</td>\n      <td>45</td>\n      <td>45</td>\n      <td>75</td>\n      <td>165</td>\n      <td>45</td>\n      <td>65</td>\n      <td>...</td>\n      <td>45</td>\n      <td>30</td>\n      <td>20</td>\n      <td>20</td>\n      <td>70</td>\n      <td>20</td>\n      <td>30</td>\n      <td>10</td>\n      <td>60</td>\n      <td>285</td>\n    </tr>\n    <tr>\n      <th>Algeria</th>\n      <td>80</td>\n      <td>125</td>\n      <td>235</td>\n      <td>440</td>\n      <td>255</td>\n      <td>340</td>\n      <td>280</td>\n      <td>875</td>\n      <td>310</td>\n      <td>280</td>\n      <td>...</td>\n      <td>260</td>\n      <td>335</td>\n      <td>440</td>\n      <td>310</td>\n      <td>1085</td>\n      <td>270</td>\n      <td>175</td>\n      <td>200</td>\n      <td>645</td>\n      <td>2715</td>\n    </tr>\n    <tr>\n      <th>Andorra</th>\n      <td>0</td>\n      <td>0</td>\n      <td>0</td>\n      <td>0</td>\n      <td>--</td>\n      <td>0</td>\n      <td>0</td>\n      <td>--</td>\n      <td>0</td>\n      <td>--</td>\n      <td>...</td>\n      <td>0</td>\n      <td>0</td>\n      <td>0</td>\n      <td>0</td>\n      <td>0</td>\n      <td>0</td>\n      <td>0</td>\n      <td>0</td>\n      <td>0</td>\n      <td>0</td>\n    </tr>\n    <tr>\n      <th>Angola</th>\n      <td>--</td>\n      <td>0</td>\n      <td>--</td>\n      <td>--</td>\n      <td>10</td>\n      <td>--</td>\n      <td>--</td>\n      <td>15</td>\n      <td>--</td>\n      <td>--</td>\n      <td>...</td>\n      <td>--</td>\n      <td>--</td>\n      <td>--</td>\n      <td>--</td>\n      <td>10</td>\n      <td>5</td>\n      <td>--</td>\n      <td>--</td>\n      <td>10</td>\n      <td>35</td>\n    </tr>\n  </tbody>\n</table>\n<p>5 rows × 102 columns</p>\n</div>"
     },
     "metadata": {},
     "execution_count": 4
    }
   ],
   "source": [
    "def clean_col(col):\n",
    "    \"\"\"\n",
    "    This function cleans the column names and add the year information\n",
    "    \"\"\"\n",
    "    if col == 'Unnamed: 0': #Special case for contry column\n",
    "        return 'Country'\n",
    "    elif col[0] =='U':  # Take care for the annual summary column\n",
    "        return 'Total, {}'.format(str(int(col.split(':')[1])//17 +2014))\n",
    "    elif (len(col.split('.')) == 1) & (col[0] !='U'): \n",
    "        return col + ', 2015'\n",
    "    elif col.split('.')[1] == '1':\n",
    "        return col.split('.')[0]+', 2016'\n",
    "    elif col.split('.')[1] == '2':\n",
    "        return col.split('.')[0]+', 2017'\n",
    "    elif col.split('.')[1] == '3':\n",
    "        return col.split('.')[0]+', 2018'\n",
    "    elif col.split('.')[1] == '4':\n",
    "        return col.split('.')[0]+', 2019'\n",
    "    elif col.split('.')[1] == '5':\n",
    "        return col.split('.')[0]+', 2020'\n",
    "\n",
    "col_names = [clean_col(i) for i in data.columns]\n",
    "data.columns = col_names\n",
    "data.set_index('Country',inplace=True)\n",
    "data.head()"
   ]
  },
  {
   "source": [
    "Filling NULL values: Because this data is obtained from IRCC, it's unlikely the missing values are due to undocumentaed immigration cases. Possible reasons for missing valeus might be dual-citizenship, or no values were entered simply because there were no immigration cases during that time frame. Therefore, we fill all missing values as 0.\n",
    "\n"
   ],
   "cell_type": "markdown",
   "metadata": {}
  },
  {
   "cell_type": "code",
   "execution_count": 5,
   "metadata": {},
   "outputs": [
    {
     "output_type": "execute_result",
     "data": {
      "text/plain": [
       "             Jan, 2015  Feb, 2015  Mar, 2015  Q1 Total, 2015  Apr, 2015  \\\n",
       "Country                                                                   \n",
       "Afghanistan         90        125        220             435        135   \n",
       "Albania             15         25         50              90         45   \n",
       "Algeria             80        125        235             440        255   \n",
       "Andorra              0          0          0               0          0   \n",
       "Angola               0          0          0               0         10   \n",
       "\n",
       "             May, 2015  Jun, 2015  Q2 Total, 2015  Jul, 2015  Aug, 2015  ...  \\\n",
       "Country                                                                  ...   \n",
       "Afghanistan        220        195             555        250        145  ...   \n",
       "Albania             45         75             165         45         65  ...   \n",
       "Algeria            340        280             875        310        280  ...   \n",
       "Andorra              0          0               0          0          0  ...   \n",
       "Angola               0          0              15          0          0  ...   \n",
       "\n",
       "             Q2 Total, 2020  Jul, 2020  Aug, 2020  Sep, 2020  Q3 Total, 2020  \\\n",
       "Country                                                                        \n",
       "Afghanistan              95         85         95        180             360   \n",
       "Albania                  45         30         20         20              70   \n",
       "Algeria                 260        335        440        310            1085   \n",
       "Andorra                   0          0          0          0               0   \n",
       "Angola                    0          0          0          0              10   \n",
       "\n",
       "             Oct, 2020  Nov, 2020  Dec, 2020  Q4 Total, 2020  Total, 2020  \n",
       "Country                                                                    \n",
       "Afghanistan        120        185        160             465         1655  \n",
       "Albania             20         30         10              60          285  \n",
       "Algeria            270        175        200             645         2715  \n",
       "Andorra              0          0          0               0            0  \n",
       "Angola               5          0          0              10           35  \n",
       "\n",
       "[5 rows x 102 columns]"
      ],
      "text/html": "<div>\n<style scoped>\n    .dataframe tbody tr th:only-of-type {\n        vertical-align: middle;\n    }\n\n    .dataframe tbody tr th {\n        vertical-align: top;\n    }\n\n    .dataframe thead th {\n        text-align: right;\n    }\n</style>\n<table border=\"1\" class=\"dataframe\">\n  <thead>\n    <tr style=\"text-align: right;\">\n      <th></th>\n      <th>Jan, 2015</th>\n      <th>Feb, 2015</th>\n      <th>Mar, 2015</th>\n      <th>Q1 Total, 2015</th>\n      <th>Apr, 2015</th>\n      <th>May, 2015</th>\n      <th>Jun, 2015</th>\n      <th>Q2 Total, 2015</th>\n      <th>Jul, 2015</th>\n      <th>Aug, 2015</th>\n      <th>...</th>\n      <th>Q2 Total, 2020</th>\n      <th>Jul, 2020</th>\n      <th>Aug, 2020</th>\n      <th>Sep, 2020</th>\n      <th>Q3 Total, 2020</th>\n      <th>Oct, 2020</th>\n      <th>Nov, 2020</th>\n      <th>Dec, 2020</th>\n      <th>Q4 Total, 2020</th>\n      <th>Total, 2020</th>\n    </tr>\n    <tr>\n      <th>Country</th>\n      <th></th>\n      <th></th>\n      <th></th>\n      <th></th>\n      <th></th>\n      <th></th>\n      <th></th>\n      <th></th>\n      <th></th>\n      <th></th>\n      <th></th>\n      <th></th>\n      <th></th>\n      <th></th>\n      <th></th>\n      <th></th>\n      <th></th>\n      <th></th>\n      <th></th>\n      <th></th>\n      <th></th>\n    </tr>\n  </thead>\n  <tbody>\n    <tr>\n      <th>Afghanistan</th>\n      <td>90</td>\n      <td>125</td>\n      <td>220</td>\n      <td>435</td>\n      <td>135</td>\n      <td>220</td>\n      <td>195</td>\n      <td>555</td>\n      <td>250</td>\n      <td>145</td>\n      <td>...</td>\n      <td>95</td>\n      <td>85</td>\n      <td>95</td>\n      <td>180</td>\n      <td>360</td>\n      <td>120</td>\n      <td>185</td>\n      <td>160</td>\n      <td>465</td>\n      <td>1655</td>\n    </tr>\n    <tr>\n      <th>Albania</th>\n      <td>15</td>\n      <td>25</td>\n      <td>50</td>\n      <td>90</td>\n      <td>45</td>\n      <td>45</td>\n      <td>75</td>\n      <td>165</td>\n      <td>45</td>\n      <td>65</td>\n      <td>...</td>\n      <td>45</td>\n      <td>30</td>\n      <td>20</td>\n      <td>20</td>\n      <td>70</td>\n      <td>20</td>\n      <td>30</td>\n      <td>10</td>\n      <td>60</td>\n      <td>285</td>\n    </tr>\n    <tr>\n      <th>Algeria</th>\n      <td>80</td>\n      <td>125</td>\n      <td>235</td>\n      <td>440</td>\n      <td>255</td>\n      <td>340</td>\n      <td>280</td>\n      <td>875</td>\n      <td>310</td>\n      <td>280</td>\n      <td>...</td>\n      <td>260</td>\n      <td>335</td>\n      <td>440</td>\n      <td>310</td>\n      <td>1085</td>\n      <td>270</td>\n      <td>175</td>\n      <td>200</td>\n      <td>645</td>\n      <td>2715</td>\n    </tr>\n    <tr>\n      <th>Andorra</th>\n      <td>0</td>\n      <td>0</td>\n      <td>0</td>\n      <td>0</td>\n      <td>0</td>\n      <td>0</td>\n      <td>0</td>\n      <td>0</td>\n      <td>0</td>\n      <td>0</td>\n      <td>...</td>\n      <td>0</td>\n      <td>0</td>\n      <td>0</td>\n      <td>0</td>\n      <td>0</td>\n      <td>0</td>\n      <td>0</td>\n      <td>0</td>\n      <td>0</td>\n      <td>0</td>\n    </tr>\n    <tr>\n      <th>Angola</th>\n      <td>0</td>\n      <td>0</td>\n      <td>0</td>\n      <td>0</td>\n      <td>10</td>\n      <td>0</td>\n      <td>0</td>\n      <td>15</td>\n      <td>0</td>\n      <td>0</td>\n      <td>...</td>\n      <td>0</td>\n      <td>0</td>\n      <td>0</td>\n      <td>0</td>\n      <td>10</td>\n      <td>5</td>\n      <td>0</td>\n      <td>0</td>\n      <td>10</td>\n      <td>35</td>\n    </tr>\n  </tbody>\n</table>\n<p>5 rows × 102 columns</p>\n</div>"
     },
     "metadata": {},
     "execution_count": 5
    }
   ],
   "source": [
    "data = data.applymap(lambda x: 0 if x == '--' else int(x))\n",
    "data.head()"
   ]
  },
  {
   "source": [
    "### Analyze Data\n",
    "\n",
    "Question 1: What are the five largest origins of new Canada immigrants?"
   ],
   "cell_type": "markdown",
   "metadata": {}
  },
  {
   "cell_type": "code",
   "execution_count": 6,
   "metadata": {},
   "outputs": [
    {
     "output_type": "execute_result",
     "data": {
      "text/plain": [
       "<AxesSubplot:xlabel='Country'>"
      ]
     },
     "metadata": {},
     "execution_count": 6
    },
    {
     "output_type": "display_data",
     "data": {
      "text/plain": "<Figure size 432x288 with 1 Axes>",
      "image/svg+xml": "<?xml version=\"1.0\" encoding=\"utf-8\" standalone=\"no\"?>\n<!DOCTYPE svg PUBLIC \"-//W3C//DTD SVG 1.1//EN\"\n  \"http://www.w3.org/Graphics/SVG/1.1/DTD/svg11.dtd\">\n<!-- Created with matplotlib (https://matplotlib.org/) -->\n<svg height=\"297.458076pt\" version=\"1.1\" viewBox=\"0 0 394.375 297.458076\" width=\"394.375pt\" xmlns=\"http://www.w3.org/2000/svg\" xmlns:xlink=\"http://www.w3.org/1999/xlink\">\n <metadata>\n  <rdf:RDF xmlns:cc=\"http://creativecommons.org/ns#\" xmlns:dc=\"http://purl.org/dc/elements/1.1/\" xmlns:rdf=\"http://www.w3.org/1999/02/22-rdf-syntax-ns#\">\n   <cc:Work>\n    <dc:type rdf:resource=\"http://purl.org/dc/dcmitype/StillImage\"/>\n    <dc:date>2021-02-27T18:54:12.962968</dc:date>\n    <dc:format>image/svg+xml</dc:format>\n    <dc:creator>\n     <cc:Agent>\n      <dc:title>Matplotlib v3.3.0, https://matplotlib.org/</dc:title>\n     </cc:Agent>\n    </dc:creator>\n   </cc:Work>\n  </rdf:RDF>\n </metadata>\n <defs>\n  <style type=\"text/css\">*{stroke-linecap:butt;stroke-linejoin:round;}</style>\n </defs>\n <g id=\"figure_1\">\n  <g id=\"patch_1\">\n   <path d=\"M 0 297.458076 \nL 394.375 297.458076 \nL 394.375 0 \nL 0 0 \nz\n\" style=\"fill:none;\"/>\n  </g>\n  <g id=\"axes_1\">\n   <g id=\"patch_2\">\n    <path d=\"M 52.375 224.64 \nL 387.175 224.64 \nL 387.175 7.2 \nL 52.375 7.2 \nz\n\" style=\"fill:#ffffff;\"/>\n   </g>\n   <g id=\"patch_3\">\n    <path clip-path=\"url(#pf7b01ad1a1)\" d=\"M 69.115 224.64 \nL 102.595 224.64 \nL 102.595 17.554286 \nL 69.115 17.554286 \nz\n\" style=\"fill:#1f77b4;\"/>\n   </g>\n   <g id=\"patch_4\">\n    <path clip-path=\"url(#pf7b01ad1a1)\" d=\"M 136.075 224.64 \nL 169.555 224.64 \nL 169.555 94.121599 \nL 136.075 94.121599 \nz\n\" style=\"fill:#1f77b4;\"/>\n   </g>\n   <g id=\"patch_5\">\n    <path clip-path=\"url(#pf7b01ad1a1)\" d=\"M 203.035 224.64 \nL 236.515 224.64 \nL 236.515 128.360576 \nL 203.035 128.360576 \nz\n\" style=\"fill:#1f77b4;\"/>\n   </g>\n   <g id=\"patch_6\">\n    <path clip-path=\"url(#pf7b01ad1a1)\" d=\"M 269.995 224.64 \nL 303.475 224.64 \nL 303.475 171.837343 \nL 269.995 171.837343 \nz\n\" style=\"fill:#1f77b4;\"/>\n   </g>\n   <g id=\"patch_7\">\n    <path clip-path=\"url(#pf7b01ad1a1)\" d=\"M 336.955 224.64 \nL 370.435 224.64 \nL 370.435 188.89705 \nL 336.955 188.89705 \nz\n\" style=\"fill:#1f77b4;\"/>\n   </g>\n   <g id=\"matplotlib.axis_1\">\n    <g id=\"xtick_1\">\n     <g id=\"line2d_1\">\n      <defs>\n       <path d=\"M 0 0 \nL 0 3.5 \n\" id=\"m379ab9ed36\" style=\"stroke:#000000;stroke-width:0.8;\"/>\n      </defs>\n      <g>\n       <use style=\"stroke:#000000;stroke-width:0.8;\" x=\"85.855\" xlink:href=\"#m379ab9ed36\" y=\"224.64\"/>\n      </g>\n     </g>\n     <g id=\"text_1\">\n      <!-- India -->\n      <g transform=\"translate(79.129199 254.366854)rotate(-45)scale(0.1 -0.1)\">\n       <defs>\n        <path d=\"M 9.8125 72.90625 \nL 19.671875 72.90625 \nL 19.671875 0 \nL 9.8125 0 \nz\n\" id=\"DejaVuSans-73\"/>\n        <path d=\"M 54.890625 33.015625 \nL 54.890625 0 \nL 45.90625 0 \nL 45.90625 32.71875 \nQ 45.90625 40.484375 42.875 44.328125 \nQ 39.84375 48.1875 33.796875 48.1875 \nQ 26.515625 48.1875 22.3125 43.546875 \nQ 18.109375 38.921875 18.109375 30.90625 \nL 18.109375 0 \nL 9.078125 0 \nL 9.078125 54.6875 \nL 18.109375 54.6875 \nL 18.109375 46.1875 \nQ 21.34375 51.125 25.703125 53.5625 \nQ 30.078125 56 35.796875 56 \nQ 45.21875 56 50.046875 50.171875 \nQ 54.890625 44.34375 54.890625 33.015625 \nz\n\" id=\"DejaVuSans-110\"/>\n        <path d=\"M 45.40625 46.390625 \nL 45.40625 75.984375 \nL 54.390625 75.984375 \nL 54.390625 0 \nL 45.40625 0 \nL 45.40625 8.203125 \nQ 42.578125 3.328125 38.25 0.953125 \nQ 33.9375 -1.421875 27.875 -1.421875 \nQ 17.96875 -1.421875 11.734375 6.484375 \nQ 5.515625 14.40625 5.515625 27.296875 \nQ 5.515625 40.1875 11.734375 48.09375 \nQ 17.96875 56 27.875 56 \nQ 33.9375 56 38.25 53.625 \nQ 42.578125 51.265625 45.40625 46.390625 \nz\nM 14.796875 27.296875 \nQ 14.796875 17.390625 18.875 11.75 \nQ 22.953125 6.109375 30.078125 6.109375 \nQ 37.203125 6.109375 41.296875 11.75 \nQ 45.40625 17.390625 45.40625 27.296875 \nQ 45.40625 37.203125 41.296875 42.84375 \nQ 37.203125 48.484375 30.078125 48.484375 \nQ 22.953125 48.484375 18.875 42.84375 \nQ 14.796875 37.203125 14.796875 27.296875 \nz\n\" id=\"DejaVuSans-100\"/>\n        <path d=\"M 9.421875 54.6875 \nL 18.40625 54.6875 \nL 18.40625 0 \nL 9.421875 0 \nz\nM 9.421875 75.984375 \nL 18.40625 75.984375 \nL 18.40625 64.59375 \nL 9.421875 64.59375 \nz\n\" id=\"DejaVuSans-105\"/>\n        <path d=\"M 34.28125 27.484375 \nQ 23.390625 27.484375 19.1875 25 \nQ 14.984375 22.515625 14.984375 16.5 \nQ 14.984375 11.71875 18.140625 8.90625 \nQ 21.296875 6.109375 26.703125 6.109375 \nQ 34.1875 6.109375 38.703125 11.40625 \nQ 43.21875 16.703125 43.21875 25.484375 \nL 43.21875 27.484375 \nz\nM 52.203125 31.203125 \nL 52.203125 0 \nL 43.21875 0 \nL 43.21875 8.296875 \nQ 40.140625 3.328125 35.546875 0.953125 \nQ 30.953125 -1.421875 24.3125 -1.421875 \nQ 15.921875 -1.421875 10.953125 3.296875 \nQ 6 8.015625 6 15.921875 \nQ 6 25.140625 12.171875 29.828125 \nQ 18.359375 34.515625 30.609375 34.515625 \nL 43.21875 34.515625 \nL 43.21875 35.40625 \nQ 43.21875 41.609375 39.140625 45 \nQ 35.0625 48.390625 27.6875 48.390625 \nQ 23 48.390625 18.546875 47.265625 \nQ 14.109375 46.140625 10.015625 43.890625 \nL 10.015625 52.203125 \nQ 14.9375 54.109375 19.578125 55.046875 \nQ 24.21875 56 28.609375 56 \nQ 40.484375 56 46.34375 49.84375 \nQ 52.203125 43.703125 52.203125 31.203125 \nz\n\" id=\"DejaVuSans-97\"/>\n       </defs>\n       <use xlink:href=\"#DejaVuSans-73\"/>\n       <use x=\"29.492188\" xlink:href=\"#DejaVuSans-110\"/>\n       <use x=\"92.871094\" xlink:href=\"#DejaVuSans-100\"/>\n       <use x=\"156.347656\" xlink:href=\"#DejaVuSans-105\"/>\n       <use x=\"184.130859\" xlink:href=\"#DejaVuSans-97\"/>\n      </g>\n     </g>\n    </g>\n    <g id=\"xtick_2\">\n     <g id=\"line2d_2\">\n      <g>\n       <use style=\"stroke:#000000;stroke-width:0.8;\" x=\"152.815\" xlink:href=\"#m379ab9ed36\" y=\"224.64\"/>\n      </g>\n     </g>\n     <g id=\"text_2\">\n      <!-- Philippines -->\n      <g transform=\"translate(135.717931 275.109389)rotate(-45)scale(0.1 -0.1)\">\n       <defs>\n        <path d=\"M 19.671875 64.796875 \nL 19.671875 37.40625 \nL 32.078125 37.40625 \nQ 38.96875 37.40625 42.71875 40.96875 \nQ 46.484375 44.53125 46.484375 51.125 \nQ 46.484375 57.671875 42.71875 61.234375 \nQ 38.96875 64.796875 32.078125 64.796875 \nz\nM 9.8125 72.90625 \nL 32.078125 72.90625 \nQ 44.34375 72.90625 50.609375 67.359375 \nQ 56.890625 61.8125 56.890625 51.125 \nQ 56.890625 40.328125 50.609375 34.8125 \nQ 44.34375 29.296875 32.078125 29.296875 \nL 19.671875 29.296875 \nL 19.671875 0 \nL 9.8125 0 \nz\n\" id=\"DejaVuSans-80\"/>\n        <path d=\"M 54.890625 33.015625 \nL 54.890625 0 \nL 45.90625 0 \nL 45.90625 32.71875 \nQ 45.90625 40.484375 42.875 44.328125 \nQ 39.84375 48.1875 33.796875 48.1875 \nQ 26.515625 48.1875 22.3125 43.546875 \nQ 18.109375 38.921875 18.109375 30.90625 \nL 18.109375 0 \nL 9.078125 0 \nL 9.078125 75.984375 \nL 18.109375 75.984375 \nL 18.109375 46.1875 \nQ 21.34375 51.125 25.703125 53.5625 \nQ 30.078125 56 35.796875 56 \nQ 45.21875 56 50.046875 50.171875 \nQ 54.890625 44.34375 54.890625 33.015625 \nz\n\" id=\"DejaVuSans-104\"/>\n        <path d=\"M 9.421875 75.984375 \nL 18.40625 75.984375 \nL 18.40625 0 \nL 9.421875 0 \nz\n\" id=\"DejaVuSans-108\"/>\n        <path d=\"M 18.109375 8.203125 \nL 18.109375 -20.796875 \nL 9.078125 -20.796875 \nL 9.078125 54.6875 \nL 18.109375 54.6875 \nL 18.109375 46.390625 \nQ 20.953125 51.265625 25.265625 53.625 \nQ 29.59375 56 35.59375 56 \nQ 45.5625 56 51.78125 48.09375 \nQ 58.015625 40.1875 58.015625 27.296875 \nQ 58.015625 14.40625 51.78125 6.484375 \nQ 45.5625 -1.421875 35.59375 -1.421875 \nQ 29.59375 -1.421875 25.265625 0.953125 \nQ 20.953125 3.328125 18.109375 8.203125 \nz\nM 48.6875 27.296875 \nQ 48.6875 37.203125 44.609375 42.84375 \nQ 40.53125 48.484375 33.40625 48.484375 \nQ 26.265625 48.484375 22.1875 42.84375 \nQ 18.109375 37.203125 18.109375 27.296875 \nQ 18.109375 17.390625 22.1875 11.75 \nQ 26.265625 6.109375 33.40625 6.109375 \nQ 40.53125 6.109375 44.609375 11.75 \nQ 48.6875 17.390625 48.6875 27.296875 \nz\n\" id=\"DejaVuSans-112\"/>\n        <path d=\"M 56.203125 29.59375 \nL 56.203125 25.203125 \nL 14.890625 25.203125 \nQ 15.484375 15.921875 20.484375 11.0625 \nQ 25.484375 6.203125 34.421875 6.203125 \nQ 39.59375 6.203125 44.453125 7.46875 \nQ 49.3125 8.734375 54.109375 11.28125 \nL 54.109375 2.78125 \nQ 49.265625 0.734375 44.1875 -0.34375 \nQ 39.109375 -1.421875 33.890625 -1.421875 \nQ 20.796875 -1.421875 13.15625 6.1875 \nQ 5.515625 13.8125 5.515625 26.8125 \nQ 5.515625 40.234375 12.765625 48.109375 \nQ 20.015625 56 32.328125 56 \nQ 43.359375 56 49.78125 48.890625 \nQ 56.203125 41.796875 56.203125 29.59375 \nz\nM 47.21875 32.234375 \nQ 47.125 39.59375 43.09375 43.984375 \nQ 39.0625 48.390625 32.421875 48.390625 \nQ 24.90625 48.390625 20.390625 44.140625 \nQ 15.875 39.890625 15.1875 32.171875 \nz\n\" id=\"DejaVuSans-101\"/>\n        <path d=\"M 44.28125 53.078125 \nL 44.28125 44.578125 \nQ 40.484375 46.53125 36.375 47.5 \nQ 32.28125 48.484375 27.875 48.484375 \nQ 21.1875 48.484375 17.84375 46.4375 \nQ 14.5 44.390625 14.5 40.28125 \nQ 14.5 37.15625 16.890625 35.375 \nQ 19.28125 33.59375 26.515625 31.984375 \nL 29.59375 31.296875 \nQ 39.15625 29.25 43.1875 25.515625 \nQ 47.21875 21.78125 47.21875 15.09375 \nQ 47.21875 7.46875 41.1875 3.015625 \nQ 35.15625 -1.421875 24.609375 -1.421875 \nQ 20.21875 -1.421875 15.453125 -0.5625 \nQ 10.6875 0.296875 5.421875 2 \nL 5.421875 11.28125 \nQ 10.40625 8.6875 15.234375 7.390625 \nQ 20.0625 6.109375 24.8125 6.109375 \nQ 31.15625 6.109375 34.5625 8.28125 \nQ 37.984375 10.453125 37.984375 14.40625 \nQ 37.984375 18.0625 35.515625 20.015625 \nQ 33.0625 21.96875 24.703125 23.78125 \nL 21.578125 24.515625 \nQ 13.234375 26.265625 9.515625 29.90625 \nQ 5.8125 33.546875 5.8125 39.890625 \nQ 5.8125 47.609375 11.28125 51.796875 \nQ 16.75 56 26.8125 56 \nQ 31.78125 56 36.171875 55.265625 \nQ 40.578125 54.546875 44.28125 53.078125 \nz\n\" id=\"DejaVuSans-115\"/>\n       </defs>\n       <use xlink:href=\"#DejaVuSans-80\"/>\n       <use x=\"60.302734\" xlink:href=\"#DejaVuSans-104\"/>\n       <use x=\"123.681641\" xlink:href=\"#DejaVuSans-105\"/>\n       <use x=\"151.464844\" xlink:href=\"#DejaVuSans-108\"/>\n       <use x=\"179.248047\" xlink:href=\"#DejaVuSans-105\"/>\n       <use x=\"207.03125\" xlink:href=\"#DejaVuSans-112\"/>\n       <use x=\"270.507812\" xlink:href=\"#DejaVuSans-112\"/>\n       <use x=\"333.984375\" xlink:href=\"#DejaVuSans-105\"/>\n       <use x=\"361.767578\" xlink:href=\"#DejaVuSans-110\"/>\n       <use x=\"425.146484\" xlink:href=\"#DejaVuSans-101\"/>\n       <use x=\"486.669922\" xlink:href=\"#DejaVuSans-115\"/>\n      </g>\n     </g>\n    </g>\n    <g id=\"xtick_3\">\n     <g id=\"line2d_3\">\n      <g>\n       <use style=\"stroke:#000000;stroke-width:0.8;\" x=\"219.775\" xlink:href=\"#m379ab9ed36\" y=\"224.64\"/>\n      </g>\n     </g>\n     <g id=\"text_3\">\n      <!-- China -->\n      <g transform=\"translate(211.627252 257.210749)rotate(-45)scale(0.1 -0.1)\">\n       <defs>\n        <path d=\"M 64.40625 67.28125 \nL 64.40625 56.890625 \nQ 59.421875 61.53125 53.78125 63.8125 \nQ 48.140625 66.109375 41.796875 66.109375 \nQ 29.296875 66.109375 22.65625 58.46875 \nQ 16.015625 50.828125 16.015625 36.375 \nQ 16.015625 21.96875 22.65625 14.328125 \nQ 29.296875 6.6875 41.796875 6.6875 \nQ 48.140625 6.6875 53.78125 8.984375 \nQ 59.421875 11.28125 64.40625 15.921875 \nL 64.40625 5.609375 \nQ 59.234375 2.09375 53.4375 0.328125 \nQ 47.65625 -1.421875 41.21875 -1.421875 \nQ 24.65625 -1.421875 15.125 8.703125 \nQ 5.609375 18.84375 5.609375 36.375 \nQ 5.609375 53.953125 15.125 64.078125 \nQ 24.65625 74.21875 41.21875 74.21875 \nQ 47.75 74.21875 53.53125 72.484375 \nQ 59.328125 70.75 64.40625 67.28125 \nz\n\" id=\"DejaVuSans-67\"/>\n       </defs>\n       <use xlink:href=\"#DejaVuSans-67\"/>\n       <use x=\"69.824219\" xlink:href=\"#DejaVuSans-104\"/>\n       <use x=\"133.203125\" xlink:href=\"#DejaVuSans-105\"/>\n       <use x=\"160.986328\" xlink:href=\"#DejaVuSans-110\"/>\n       <use x=\"224.365234\" xlink:href=\"#DejaVuSans-97\"/>\n      </g>\n     </g>\n    </g>\n    <g id=\"xtick_4\">\n     <g id=\"line2d_4\">\n      <g>\n       <use style=\"stroke:#000000;stroke-width:0.8;\" x=\"286.735\" xlink:href=\"#m379ab9ed36\" y=\"224.64\"/>\n      </g>\n     </g>\n     <g id=\"text_4\">\n      <!-- Syria -->\n      <g transform=\"translate(279.746796 254.89166)rotate(-45)scale(0.1 -0.1)\">\n       <defs>\n        <path d=\"M 53.515625 70.515625 \nL 53.515625 60.890625 \nQ 47.90625 63.578125 42.921875 64.890625 \nQ 37.9375 66.21875 33.296875 66.21875 \nQ 25.25 66.21875 20.875 63.09375 \nQ 16.5 59.96875 16.5 54.203125 \nQ 16.5 49.359375 19.40625 46.890625 \nQ 22.3125 44.4375 30.421875 42.921875 \nL 36.375 41.703125 \nQ 47.40625 39.59375 52.65625 34.296875 \nQ 57.90625 29 57.90625 20.125 \nQ 57.90625 9.515625 50.796875 4.046875 \nQ 43.703125 -1.421875 29.984375 -1.421875 \nQ 24.8125 -1.421875 18.96875 -0.25 \nQ 13.140625 0.921875 6.890625 3.21875 \nL 6.890625 13.375 \nQ 12.890625 10.015625 18.65625 8.296875 \nQ 24.421875 6.59375 29.984375 6.59375 \nQ 38.421875 6.59375 43.015625 9.90625 \nQ 47.609375 13.234375 47.609375 19.390625 \nQ 47.609375 24.75 44.3125 27.78125 \nQ 41.015625 30.8125 33.5 32.328125 \nL 27.484375 33.5 \nQ 16.453125 35.6875 11.515625 40.375 \nQ 6.59375 45.0625 6.59375 53.421875 \nQ 6.59375 63.09375 13.40625 68.65625 \nQ 20.21875 74.21875 32.171875 74.21875 \nQ 37.3125 74.21875 42.625 73.28125 \nQ 47.953125 72.359375 53.515625 70.515625 \nz\n\" id=\"DejaVuSans-83\"/>\n        <path d=\"M 32.171875 -5.078125 \nQ 28.375 -14.84375 24.75 -17.8125 \nQ 21.140625 -20.796875 15.09375 -20.796875 \nL 7.90625 -20.796875 \nL 7.90625 -13.28125 \nL 13.1875 -13.28125 \nQ 16.890625 -13.28125 18.9375 -11.515625 \nQ 21 -9.765625 23.484375 -3.21875 \nL 25.09375 0.875 \nL 2.984375 54.6875 \nL 12.5 54.6875 \nL 29.59375 11.921875 \nL 46.6875 54.6875 \nL 56.203125 54.6875 \nz\n\" id=\"DejaVuSans-121\"/>\n        <path d=\"M 41.109375 46.296875 \nQ 39.59375 47.171875 37.8125 47.578125 \nQ 36.03125 48 33.890625 48 \nQ 26.265625 48 22.1875 43.046875 \nQ 18.109375 38.09375 18.109375 28.8125 \nL 18.109375 0 \nL 9.078125 0 \nL 9.078125 54.6875 \nL 18.109375 54.6875 \nL 18.109375 46.1875 \nQ 20.953125 51.171875 25.484375 53.578125 \nQ 30.03125 56 36.53125 56 \nQ 37.453125 56 38.578125 55.875 \nQ 39.703125 55.765625 41.0625 55.515625 \nz\n\" id=\"DejaVuSans-114\"/>\n       </defs>\n       <use xlink:href=\"#DejaVuSans-83\"/>\n       <use x=\"63.476562\" xlink:href=\"#DejaVuSans-121\"/>\n       <use x=\"122.65625\" xlink:href=\"#DejaVuSans-114\"/>\n       <use x=\"163.769531\" xlink:href=\"#DejaVuSans-105\"/>\n       <use x=\"191.552734\" xlink:href=\"#DejaVuSans-97\"/>\n      </g>\n     </g>\n    </g>\n    <g id=\"xtick_5\">\n     <g id=\"line2d_5\">\n      <g>\n       <use style=\"stroke:#000000;stroke-width:0.8;\" x=\"353.695\" xlink:href=\"#m379ab9ed36\" y=\"224.64\"/>\n      </g>\n     </g>\n     <g id=\"text_5\">\n      <!-- Pakistan -->\n      <g transform=\"translate(340.842229 266.620793)rotate(-45)scale(0.1 -0.1)\">\n       <defs>\n        <path d=\"M 9.078125 75.984375 \nL 18.109375 75.984375 \nL 18.109375 31.109375 \nL 44.921875 54.6875 \nL 56.390625 54.6875 \nL 27.390625 29.109375 \nL 57.625 0 \nL 45.90625 0 \nL 18.109375 26.703125 \nL 18.109375 0 \nL 9.078125 0 \nz\n\" id=\"DejaVuSans-107\"/>\n        <path d=\"M 18.3125 70.21875 \nL 18.3125 54.6875 \nL 36.8125 54.6875 \nL 36.8125 47.703125 \nL 18.3125 47.703125 \nL 18.3125 18.015625 \nQ 18.3125 11.328125 20.140625 9.421875 \nQ 21.96875 7.515625 27.59375 7.515625 \nL 36.8125 7.515625 \nL 36.8125 0 \nL 27.59375 0 \nQ 17.1875 0 13.234375 3.875 \nQ 9.28125 7.765625 9.28125 18.015625 \nL 9.28125 47.703125 \nL 2.6875 47.703125 \nL 2.6875 54.6875 \nL 9.28125 54.6875 \nL 9.28125 70.21875 \nz\n\" id=\"DejaVuSans-116\"/>\n       </defs>\n       <use xlink:href=\"#DejaVuSans-80\"/>\n       <use x=\"55.802734\" xlink:href=\"#DejaVuSans-97\"/>\n       <use x=\"117.082031\" xlink:href=\"#DejaVuSans-107\"/>\n       <use x=\"174.992188\" xlink:href=\"#DejaVuSans-105\"/>\n       <use x=\"202.775391\" xlink:href=\"#DejaVuSans-115\"/>\n       <use x=\"254.875\" xlink:href=\"#DejaVuSans-116\"/>\n       <use x=\"294.083984\" xlink:href=\"#DejaVuSans-97\"/>\n       <use x=\"355.363281\" xlink:href=\"#DejaVuSans-110\"/>\n      </g>\n     </g>\n    </g>\n    <g id=\"text_6\">\n     <!-- Country -->\n     <g transform=\"translate(199.911719 288.178388)scale(0.1 -0.1)\">\n      <defs>\n       <path d=\"M 30.609375 48.390625 \nQ 23.390625 48.390625 19.1875 42.75 \nQ 14.984375 37.109375 14.984375 27.296875 \nQ 14.984375 17.484375 19.15625 11.84375 \nQ 23.34375 6.203125 30.609375 6.203125 \nQ 37.796875 6.203125 41.984375 11.859375 \nQ 46.1875 17.53125 46.1875 27.296875 \nQ 46.1875 37.015625 41.984375 42.703125 \nQ 37.796875 48.390625 30.609375 48.390625 \nz\nM 30.609375 56 \nQ 42.328125 56 49.015625 48.375 \nQ 55.71875 40.765625 55.71875 27.296875 \nQ 55.71875 13.875 49.015625 6.21875 \nQ 42.328125 -1.421875 30.609375 -1.421875 \nQ 18.84375 -1.421875 12.171875 6.21875 \nQ 5.515625 13.875 5.515625 27.296875 \nQ 5.515625 40.765625 12.171875 48.375 \nQ 18.84375 56 30.609375 56 \nz\n\" id=\"DejaVuSans-111\"/>\n       <path d=\"M 8.5 21.578125 \nL 8.5 54.6875 \nL 17.484375 54.6875 \nL 17.484375 21.921875 \nQ 17.484375 14.15625 20.5 10.265625 \nQ 23.53125 6.390625 29.59375 6.390625 \nQ 36.859375 6.390625 41.078125 11.03125 \nQ 45.3125 15.671875 45.3125 23.6875 \nL 45.3125 54.6875 \nL 54.296875 54.6875 \nL 54.296875 0 \nL 45.3125 0 \nL 45.3125 8.40625 \nQ 42.046875 3.421875 37.71875 1 \nQ 33.40625 -1.421875 27.6875 -1.421875 \nQ 18.265625 -1.421875 13.375 4.4375 \nQ 8.5 10.296875 8.5 21.578125 \nz\nM 31.109375 56 \nz\n\" id=\"DejaVuSans-117\"/>\n      </defs>\n      <use xlink:href=\"#DejaVuSans-67\"/>\n      <use x=\"69.824219\" xlink:href=\"#DejaVuSans-111\"/>\n      <use x=\"131.005859\" xlink:href=\"#DejaVuSans-117\"/>\n      <use x=\"194.384766\" xlink:href=\"#DejaVuSans-110\"/>\n      <use x=\"257.763672\" xlink:href=\"#DejaVuSans-116\"/>\n      <use x=\"296.972656\" xlink:href=\"#DejaVuSans-114\"/>\n      <use x=\"338.085938\" xlink:href=\"#DejaVuSans-121\"/>\n     </g>\n    </g>\n   </g>\n   <g id=\"matplotlib.axis_2\">\n    <g id=\"ytick_1\">\n     <g id=\"line2d_6\">\n      <defs>\n       <path d=\"M 0 0 \nL -3.5 0 \n\" id=\"mafb8f71c33\" style=\"stroke:#000000;stroke-width:0.8;\"/>\n      </defs>\n      <g>\n       <use style=\"stroke:#000000;stroke-width:0.8;\" x=\"52.375\" xlink:href=\"#mafb8f71c33\" y=\"224.64\"/>\n      </g>\n     </g>\n     <g id=\"text_7\">\n      <!-- 0 -->\n      <g transform=\"translate(39.0125 228.439219)scale(0.1 -0.1)\">\n       <defs>\n        <path d=\"M 31.78125 66.40625 \nQ 24.171875 66.40625 20.328125 58.90625 \nQ 16.5 51.421875 16.5 36.375 \nQ 16.5 21.390625 20.328125 13.890625 \nQ 24.171875 6.390625 31.78125 6.390625 \nQ 39.453125 6.390625 43.28125 13.890625 \nQ 47.125 21.390625 47.125 36.375 \nQ 47.125 51.421875 43.28125 58.90625 \nQ 39.453125 66.40625 31.78125 66.40625 \nz\nM 31.78125 74.21875 \nQ 44.046875 74.21875 50.515625 64.515625 \nQ 56.984375 54.828125 56.984375 36.375 \nQ 56.984375 17.96875 50.515625 8.265625 \nQ 44.046875 -1.421875 31.78125 -1.421875 \nQ 19.53125 -1.421875 13.0625 8.265625 \nQ 6.59375 17.96875 6.59375 36.375 \nQ 6.59375 54.828125 13.0625 64.515625 \nQ 19.53125 74.21875 31.78125 74.21875 \nz\n\" id=\"DejaVuSans-48\"/>\n       </defs>\n       <use xlink:href=\"#DejaVuSans-48\"/>\n      </g>\n     </g>\n    </g>\n    <g id=\"ytick_2\">\n     <g id=\"line2d_7\">\n      <g>\n       <use style=\"stroke:#000000;stroke-width:0.8;\" x=\"52.375\" xlink:href=\"#mafb8f71c33\" y=\"193.176136\"/>\n      </g>\n     </g>\n     <g id=\"text_8\">\n      <!-- 50000 -->\n      <g transform=\"translate(13.5625 196.975355)scale(0.1 -0.1)\">\n       <defs>\n        <path d=\"M 10.796875 72.90625 \nL 49.515625 72.90625 \nL 49.515625 64.59375 \nL 19.828125 64.59375 \nL 19.828125 46.734375 \nQ 21.96875 47.46875 24.109375 47.828125 \nQ 26.265625 48.1875 28.421875 48.1875 \nQ 40.625 48.1875 47.75 41.5 \nQ 54.890625 34.8125 54.890625 23.390625 \nQ 54.890625 11.625 47.5625 5.09375 \nQ 40.234375 -1.421875 26.90625 -1.421875 \nQ 22.3125 -1.421875 17.546875 -0.640625 \nQ 12.796875 0.140625 7.71875 1.703125 \nL 7.71875 11.625 \nQ 12.109375 9.234375 16.796875 8.0625 \nQ 21.484375 6.890625 26.703125 6.890625 \nQ 35.15625 6.890625 40.078125 11.328125 \nQ 45.015625 15.765625 45.015625 23.390625 \nQ 45.015625 31 40.078125 35.4375 \nQ 35.15625 39.890625 26.703125 39.890625 \nQ 22.75 39.890625 18.8125 39.015625 \nQ 14.890625 38.140625 10.796875 36.28125 \nz\n\" id=\"DejaVuSans-53\"/>\n       </defs>\n       <use xlink:href=\"#DejaVuSans-53\"/>\n       <use x=\"63.623047\" xlink:href=\"#DejaVuSans-48\"/>\n       <use x=\"127.246094\" xlink:href=\"#DejaVuSans-48\"/>\n       <use x=\"190.869141\" xlink:href=\"#DejaVuSans-48\"/>\n       <use x=\"254.492188\" xlink:href=\"#DejaVuSans-48\"/>\n      </g>\n     </g>\n    </g>\n    <g id=\"ytick_3\">\n     <g id=\"line2d_8\">\n      <g>\n       <use style=\"stroke:#000000;stroke-width:0.8;\" x=\"52.375\" xlink:href=\"#mafb8f71c33\" y=\"161.712272\"/>\n      </g>\n     </g>\n     <g id=\"text_9\">\n      <!-- 100000 -->\n      <g transform=\"translate(7.2 165.511491)scale(0.1 -0.1)\">\n       <defs>\n        <path d=\"M 12.40625 8.296875 \nL 28.515625 8.296875 \nL 28.515625 63.921875 \nL 10.984375 60.40625 \nL 10.984375 69.390625 \nL 28.421875 72.90625 \nL 38.28125 72.90625 \nL 38.28125 8.296875 \nL 54.390625 8.296875 \nL 54.390625 0 \nL 12.40625 0 \nz\n\" id=\"DejaVuSans-49\"/>\n       </defs>\n       <use xlink:href=\"#DejaVuSans-49\"/>\n       <use x=\"63.623047\" xlink:href=\"#DejaVuSans-48\"/>\n       <use x=\"127.246094\" xlink:href=\"#DejaVuSans-48\"/>\n       <use x=\"190.869141\" xlink:href=\"#DejaVuSans-48\"/>\n       <use x=\"254.492188\" xlink:href=\"#DejaVuSans-48\"/>\n       <use x=\"318.115234\" xlink:href=\"#DejaVuSans-48\"/>\n      </g>\n     </g>\n    </g>\n    <g id=\"ytick_4\">\n     <g id=\"line2d_9\">\n      <g>\n       <use style=\"stroke:#000000;stroke-width:0.8;\" x=\"52.375\" xlink:href=\"#mafb8f71c33\" y=\"130.248408\"/>\n      </g>\n     </g>\n     <g id=\"text_10\">\n      <!-- 150000 -->\n      <g transform=\"translate(7.2 134.047626)scale(0.1 -0.1)\">\n       <use xlink:href=\"#DejaVuSans-49\"/>\n       <use x=\"63.623047\" xlink:href=\"#DejaVuSans-53\"/>\n       <use x=\"127.246094\" xlink:href=\"#DejaVuSans-48\"/>\n       <use x=\"190.869141\" xlink:href=\"#DejaVuSans-48\"/>\n       <use x=\"254.492188\" xlink:href=\"#DejaVuSans-48\"/>\n       <use x=\"318.115234\" xlink:href=\"#DejaVuSans-48\"/>\n      </g>\n     </g>\n    </g>\n    <g id=\"ytick_5\">\n     <g id=\"line2d_10\">\n      <g>\n       <use style=\"stroke:#000000;stroke-width:0.8;\" x=\"52.375\" xlink:href=\"#mafb8f71c33\" y=\"98.784544\"/>\n      </g>\n     </g>\n     <g id=\"text_11\">\n      <!-- 200000 -->\n      <g transform=\"translate(7.2 102.583762)scale(0.1 -0.1)\">\n       <defs>\n        <path d=\"M 19.1875 8.296875 \nL 53.609375 8.296875 \nL 53.609375 0 \nL 7.328125 0 \nL 7.328125 8.296875 \nQ 12.9375 14.109375 22.625 23.890625 \nQ 32.328125 33.6875 34.8125 36.53125 \nQ 39.546875 41.84375 41.421875 45.53125 \nQ 43.3125 49.21875 43.3125 52.78125 \nQ 43.3125 58.59375 39.234375 62.25 \nQ 35.15625 65.921875 28.609375 65.921875 \nQ 23.96875 65.921875 18.8125 64.3125 \nQ 13.671875 62.703125 7.8125 59.421875 \nL 7.8125 69.390625 \nQ 13.765625 71.78125 18.9375 73 \nQ 24.125 74.21875 28.421875 74.21875 \nQ 39.75 74.21875 46.484375 68.546875 \nQ 53.21875 62.890625 53.21875 53.421875 \nQ 53.21875 48.921875 51.53125 44.890625 \nQ 49.859375 40.875 45.40625 35.40625 \nQ 44.1875 33.984375 37.640625 27.21875 \nQ 31.109375 20.453125 19.1875 8.296875 \nz\n\" id=\"DejaVuSans-50\"/>\n       </defs>\n       <use xlink:href=\"#DejaVuSans-50\"/>\n       <use x=\"63.623047\" xlink:href=\"#DejaVuSans-48\"/>\n       <use x=\"127.246094\" xlink:href=\"#DejaVuSans-48\"/>\n       <use x=\"190.869141\" xlink:href=\"#DejaVuSans-48\"/>\n       <use x=\"254.492188\" xlink:href=\"#DejaVuSans-48\"/>\n       <use x=\"318.115234\" xlink:href=\"#DejaVuSans-48\"/>\n      </g>\n     </g>\n    </g>\n    <g id=\"ytick_6\">\n     <g id=\"line2d_11\">\n      <g>\n       <use style=\"stroke:#000000;stroke-width:0.8;\" x=\"52.375\" xlink:href=\"#mafb8f71c33\" y=\"67.32068\"/>\n      </g>\n     </g>\n     <g id=\"text_12\">\n      <!-- 250000 -->\n      <g transform=\"translate(7.2 71.119898)scale(0.1 -0.1)\">\n       <use xlink:href=\"#DejaVuSans-50\"/>\n       <use x=\"63.623047\" xlink:href=\"#DejaVuSans-53\"/>\n       <use x=\"127.246094\" xlink:href=\"#DejaVuSans-48\"/>\n       <use x=\"190.869141\" xlink:href=\"#DejaVuSans-48\"/>\n       <use x=\"254.492188\" xlink:href=\"#DejaVuSans-48\"/>\n       <use x=\"318.115234\" xlink:href=\"#DejaVuSans-48\"/>\n      </g>\n     </g>\n    </g>\n    <g id=\"ytick_7\">\n     <g id=\"line2d_12\">\n      <g>\n       <use style=\"stroke:#000000;stroke-width:0.8;\" x=\"52.375\" xlink:href=\"#mafb8f71c33\" y=\"35.856815\"/>\n      </g>\n     </g>\n     <g id=\"text_13\">\n      <!-- 300000 -->\n      <g transform=\"translate(7.2 39.656034)scale(0.1 -0.1)\">\n       <defs>\n        <path d=\"M 40.578125 39.3125 \nQ 47.65625 37.796875 51.625 33 \nQ 55.609375 28.21875 55.609375 21.1875 \nQ 55.609375 10.40625 48.1875 4.484375 \nQ 40.765625 -1.421875 27.09375 -1.421875 \nQ 22.515625 -1.421875 17.65625 -0.515625 \nQ 12.796875 0.390625 7.625 2.203125 \nL 7.625 11.71875 \nQ 11.71875 9.328125 16.59375 8.109375 \nQ 21.484375 6.890625 26.8125 6.890625 \nQ 36.078125 6.890625 40.9375 10.546875 \nQ 45.796875 14.203125 45.796875 21.1875 \nQ 45.796875 27.640625 41.28125 31.265625 \nQ 36.765625 34.90625 28.71875 34.90625 \nL 20.21875 34.90625 \nL 20.21875 43.015625 \nL 29.109375 43.015625 \nQ 36.375 43.015625 40.234375 45.921875 \nQ 44.09375 48.828125 44.09375 54.296875 \nQ 44.09375 59.90625 40.109375 62.90625 \nQ 36.140625 65.921875 28.71875 65.921875 \nQ 24.65625 65.921875 20.015625 65.03125 \nQ 15.375 64.15625 9.8125 62.3125 \nL 9.8125 71.09375 \nQ 15.4375 72.65625 20.34375 73.4375 \nQ 25.25 74.21875 29.59375 74.21875 \nQ 40.828125 74.21875 47.359375 69.109375 \nQ 53.90625 64.015625 53.90625 55.328125 \nQ 53.90625 49.265625 50.4375 45.09375 \nQ 46.96875 40.921875 40.578125 39.3125 \nz\n\" id=\"DejaVuSans-51\"/>\n       </defs>\n       <use xlink:href=\"#DejaVuSans-51\"/>\n       <use x=\"63.623047\" xlink:href=\"#DejaVuSans-48\"/>\n       <use x=\"127.246094\" xlink:href=\"#DejaVuSans-48\"/>\n       <use x=\"190.869141\" xlink:href=\"#DejaVuSans-48\"/>\n       <use x=\"254.492188\" xlink:href=\"#DejaVuSans-48\"/>\n       <use x=\"318.115234\" xlink:href=\"#DejaVuSans-48\"/>\n      </g>\n     </g>\n    </g>\n   </g>\n   <g id=\"patch_8\">\n    <path d=\"M 52.375 224.64 \nL 52.375 7.2 \n\" style=\"fill:none;stroke:#000000;stroke-linecap:square;stroke-linejoin:miter;stroke-width:0.8;\"/>\n   </g>\n   <g id=\"patch_9\">\n    <path d=\"M 387.175 224.64 \nL 387.175 7.2 \n\" style=\"fill:none;stroke:#000000;stroke-linecap:square;stroke-linejoin:miter;stroke-width:0.8;\"/>\n   </g>\n   <g id=\"patch_10\">\n    <path d=\"M 52.375 224.64 \nL 387.175 224.64 \n\" style=\"fill:none;stroke:#000000;stroke-linecap:square;stroke-linejoin:miter;stroke-width:0.8;\"/>\n   </g>\n   <g id=\"patch_11\">\n    <path d=\"M 52.375 7.2 \nL 387.175 7.2 \n\" style=\"fill:none;stroke:#000000;stroke-linecap:square;stroke-linejoin:miter;stroke-width:0.8;\"/>\n   </g>\n  </g>\n </g>\n <defs>\n  <clipPath id=\"pf7b01ad1a1\">\n   <rect height=\"217.44\" width=\"334.8\" x=\"52.375\" y=\"7.2\"/>\n  </clipPath>\n </defs>\n</svg>\n",
      "image/png": "[encoded data removed]"
     },
     "metadata": {
      "needs_background": "light"
     }
    }
   ],
   "source": [
    "largest_3 = data[['Total, 2015','Total, 2016','Total, 2017','Total, 2018','Total, 2019','Total, 2020']]\n",
    "largest_3.drop(['Country not stated','Total'],axis=0,inplace=True)\n",
    "largest_3['Total, 5years'] = largest_3.sum(axis=1)\n",
    "largest_3.rename(index={'China, People\\'s Republic of':'China'},inplace=True)\n",
    "largest_3['Total, 5years'].sort_values(ascending=False).head().plot(kind='bar', rot=45)\n"
   ]
  },
  {
   "cell_type": "code",
   "execution_count": 7,
   "metadata": {},
   "outputs": [],
   "source": []
  },
  {
   "cell_type": "code",
   "execution_count": null,
   "metadata": {},
   "outputs": [],
   "source": []
  }
 ]
}