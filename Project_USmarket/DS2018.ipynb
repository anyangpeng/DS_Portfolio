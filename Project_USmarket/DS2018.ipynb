{
 "metadata": {
  "language_info": {
   "codemirror_mode": {
    "name": "ipython",
    "version": 3
   },
   "file_extension": ".py",
   "mimetype": "text/x-python",
   "name": "python",
   "nbconvert_exporter": "python",
   "pygments_lexer": "ipython3",
   "version": "3.8.5-final"
  },
  "orig_nbformat": 2,
  "kernelspec": {
   "name": "python3",
   "display_name": "Python 3.8.5 64-bit",
   "metadata": {
    "interpreter": {
     "hash": "aee8b7b246df8f9039afb4144a1f6fd8d2ca17a180786b69acc140d282b71a49"
    }
   }
  }
 },
 "nbformat": 4,
 "nbformat_minor": 2,
 "cells": [
  {
   "source": [
    "# Data Scientist Job Market in the U.S."
   ],
   "cell_type": "markdown",
   "metadata": {}
  },
  {
   "cell_type": "code",
   "execution_count": 2,
   "metadata": {},
   "outputs": [],
   "source": [
    "import pandas as pd\n",
    "import os"
   ]
  },
  {
   "cell_type": "code",
   "execution_count": 4,
   "metadata": {},
   "outputs": [
    {
     "output_type": "execute_result",
     "data": {
      "text/plain": [
       "                                            position             company  \\\n",
       "0                               Development Director             ALS TDI   \n",
       "1  An Ostentatiously-Excitable Principal Research...  The Hexagon Lavish   \n",
       "2                                     Data Scientist      Xpert Staffing   \n",
       "3                                       Data Analyst      Operation HOPE   \n",
       "4  Assistant Professor -TT - Signal Processing & ...    Emory University   \n",
       "5                        Manager of Data Engineering  McKinsey & Company   \n",
       "6       Product Specialist - Periscope, New Ventures  McKinsey & Company   \n",
       "7  Junior to Mid-level Engineer, Geologist or Env...                Wood   \n",
       "8                      Analyst - CIB Credit Research            SunTrust   \n",
       "9  Senior Associate - Cognitive Data Scientist Na...                KPMG   \n",
       "\n",
       "                                         description  reviews  \\\n",
       "0  Development Director\\nALS Therapy Development ...      NaN   \n",
       "1  Job Description\\n\\n\"The road that leads to acc...      NaN   \n",
       "2  Growing company located in the Atlanta, GA are...      NaN   \n",
       "3  DEPARTMENT: Program OperationsPOSITION LOCATIO...     44.0   \n",
       "4  DESCRIPTION\\nThe Emory University Department o...    550.0   \n",
       "5  Qualifications\\nBachelor’s degree in Computer ...    385.0   \n",
       "6  Qualifications\\nBachelor’s degree\\n5-7 years o...    385.0   \n",
       "7  Overview / Responsibilities\\nWood Environment ...    899.0   \n",
       "8  Works closely with senior CIB professionals. P...   3343.0   \n",
       "9  Known for being a great place to work and buil...   4494.0   \n",
       "\n",
       "             location  \n",
       "0  Atlanta, GA 30301   \n",
       "1         Atlanta, GA  \n",
       "2         Atlanta, GA  \n",
       "3  Atlanta, GA 30303   \n",
       "4         Atlanta, GA  \n",
       "5  Atlanta, GA 30318   \n",
       "6  Atlanta, GA 30318   \n",
       "7         Atlanta, GA  \n",
       "8         Atlanta, GA  \n",
       "9   Atlanta, GA 30338  "
      ],
      "text/html": "<div>\n<style scoped>\n    .dataframe tbody tr th:only-of-type {\n        vertical-align: middle;\n    }\n\n    .dataframe tbody tr th {\n        vertical-align: top;\n    }\n\n    .dataframe thead th {\n        text-align: right;\n    }\n</style>\n<table border=\"1\" class=\"dataframe\">\n  <thead>\n    <tr style=\"text-align: right;\">\n      <th></th>\n      <th>position</th>\n      <th>company</th>\n      <th>description</th>\n      <th>reviews</th>\n      <th>location</th>\n    </tr>\n  </thead>\n  <tbody>\n    <tr>\n      <th>0</th>\n      <td>Development Director</td>\n      <td>ALS TDI</td>\n      <td>Development Director\\nALS Therapy Development ...</td>\n      <td>NaN</td>\n      <td>Atlanta, GA 30301</td>\n    </tr>\n    <tr>\n      <th>1</th>\n      <td>An Ostentatiously-Excitable Principal Research...</td>\n      <td>The Hexagon Lavish</td>\n      <td>Job Description\\n\\n\"The road that leads to acc...</td>\n      <td>NaN</td>\n      <td>Atlanta, GA</td>\n    </tr>\n    <tr>\n      <th>2</th>\n      <td>Data Scientist</td>\n      <td>Xpert Staffing</td>\n      <td>Growing company located in the Atlanta, GA are...</td>\n      <td>NaN</td>\n      <td>Atlanta, GA</td>\n    </tr>\n    <tr>\n      <th>3</th>\n      <td>Data Analyst</td>\n      <td>Operation HOPE</td>\n      <td>DEPARTMENT: Program OperationsPOSITION LOCATIO...</td>\n      <td>44.0</td>\n      <td>Atlanta, GA 30303</td>\n    </tr>\n    <tr>\n      <th>4</th>\n      <td>Assistant Professor -TT - Signal Processing &amp; ...</td>\n      <td>Emory University</td>\n      <td>DESCRIPTION\\nThe Emory University Department o...</td>\n      <td>550.0</td>\n      <td>Atlanta, GA</td>\n    </tr>\n    <tr>\n      <th>5</th>\n      <td>Manager of Data Engineering</td>\n      <td>McKinsey &amp; Company</td>\n      <td>Qualifications\\nBachelor’s degree in Computer ...</td>\n      <td>385.0</td>\n      <td>Atlanta, GA 30318</td>\n    </tr>\n    <tr>\n      <th>6</th>\n      <td>Product Specialist - Periscope, New Ventures</td>\n      <td>McKinsey &amp; Company</td>\n      <td>Qualifications\\nBachelor’s degree\\n5-7 years o...</td>\n      <td>385.0</td>\n      <td>Atlanta, GA 30318</td>\n    </tr>\n    <tr>\n      <th>7</th>\n      <td>Junior to Mid-level Engineer, Geologist or Env...</td>\n      <td>Wood</td>\n      <td>Overview / Responsibilities\\nWood Environment ...</td>\n      <td>899.0</td>\n      <td>Atlanta, GA</td>\n    </tr>\n    <tr>\n      <th>8</th>\n      <td>Analyst - CIB Credit Research</td>\n      <td>SunTrust</td>\n      <td>Works closely with senior CIB professionals. P...</td>\n      <td>3343.0</td>\n      <td>Atlanta, GA</td>\n    </tr>\n    <tr>\n      <th>9</th>\n      <td>Senior Associate - Cognitive Data Scientist Na...</td>\n      <td>KPMG</td>\n      <td>Known for being a great place to work and buil...</td>\n      <td>4494.0</td>\n      <td>Atlanta, GA 30338</td>\n    </tr>\n  </tbody>\n</table>\n</div>"
     },
     "metadata": {},
     "execution_count": 4
    }
   ],
   "source": [
    "raw =pd.read_csv('alldata.csv')\n",
    "raw.head(10)"
   ]
  },
  {
   "cell_type": "code",
   "execution_count": 5,
   "metadata": {},
   "outputs": [
    {
     "output_type": "stream",
     "name": "stdout",
     "text": [
      "<class 'pandas.core.frame.DataFrame'>\nRangeIndex: 6964 entries, 0 to 6963\nData columns (total 5 columns):\n #   Column       Non-Null Count  Dtype  \n---  ------       --------------  -----  \n 0   position     6953 non-null   object \n 1   company      6953 non-null   object \n 2   description  6953 non-null   object \n 3   reviews      5326 non-null   float64\n 4   location     6953 non-null   object \ndtypes: float64(1), object(4)\nmemory usage: 272.2+ KB\n"
     ]
    }
   ],
   "source": [
    "raw.info()"
   ]
  },
  {
   "cell_type": "code",
   "execution_count": 6,
   "metadata": {},
   "outputs": [
    {
     "output_type": "execute_result",
     "data": {
      "text/plain": [
       "             reviews\n",
       "count    5326.000000\n",
       "mean     3179.089185\n",
       "std      8448.515056\n",
       "min         2.000000\n",
       "25%        27.000000\n",
       "50%       230.000000\n",
       "75%      1578.000000\n",
       "max    148114.000000"
      ],
      "text/html": "<div>\n<style scoped>\n    .dataframe tbody tr th:only-of-type {\n        vertical-align: middle;\n    }\n\n    .dataframe tbody tr th {\n        vertical-align: top;\n    }\n\n    .dataframe thead th {\n        text-align: right;\n    }\n</style>\n<table border=\"1\" class=\"dataframe\">\n  <thead>\n    <tr style=\"text-align: right;\">\n      <th></th>\n      <th>reviews</th>\n    </tr>\n  </thead>\n  <tbody>\n    <tr>\n      <th>count</th>\n      <td>5326.000000</td>\n    </tr>\n    <tr>\n      <th>mean</th>\n      <td>3179.089185</td>\n    </tr>\n    <tr>\n      <th>std</th>\n      <td>8448.515056</td>\n    </tr>\n    <tr>\n      <th>min</th>\n      <td>2.000000</td>\n    </tr>\n    <tr>\n      <th>25%</th>\n      <td>27.000000</td>\n    </tr>\n    <tr>\n      <th>50%</th>\n      <td>230.000000</td>\n    </tr>\n    <tr>\n      <th>75%</th>\n      <td>1578.000000</td>\n    </tr>\n    <tr>\n      <th>max</th>\n      <td>148114.000000</td>\n    </tr>\n  </tbody>\n</table>\n</div>"
     },
     "metadata": {},
     "execution_count": 6
    }
   ],
   "source": [
    "raw.describe()"
   ]
  },
  {
   "cell_type": "code",
   "execution_count": null,
   "metadata": {},
   "outputs": [],
   "source": [
    "s"
   ]
  }
 ]
}