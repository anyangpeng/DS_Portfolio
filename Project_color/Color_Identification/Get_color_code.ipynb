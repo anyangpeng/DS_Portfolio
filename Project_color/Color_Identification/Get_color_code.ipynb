{
 "metadata": {
  "language_info": {
   "codemirror_mode": {
    "name": "ipython",
    "version": 3
   },
   "file_extension": ".py",
   "mimetype": "text/x-python",
   "name": "python",
   "nbconvert_exporter": "python",
   "pygments_lexer": "ipython3",
   "version": "3.8.5-final"
  },
  "orig_nbformat": 2,
  "kernelspec": {
   "name": "python3",
   "display_name": "Python 3.8.5 64-bit",
   "metadata": {
    "interpreter": {
     "hash": "082e9a3bcad0a290d0001e938aa60b99250c6c2ef33a923c00b70f9826caf4b7"
    }
   }
  }
 },
 "nbformat": 4,
 "nbformat_minor": 2,
 "cells": [
  {
   "cell_type": "code",
   "execution_count": 28,
   "metadata": {},
   "outputs": [],
   "source": [
    "\n",
    "import cv2\n",
    "import os\n",
    "import numpy as np\n",
    "import matplotlib.pyplot as plt\n",
    "from collections import Counter\n",
    "from sklearn.cluster import KMeans\n",
    "\n",
    "%matplotlib inline"
   ]
  },
  {
   "cell_type": "code",
   "execution_count": 93,
   "metadata": {},
   "outputs": [
    {
     "output_type": "display_data",
     "data": {
      "text/plain": "<Figure size 432x288 with 1 Axes>",
      "image/svg+xml": "<?xml version=\"1.0\" encoding=\"utf-8\" standalone=\"no\"?>\n<!DOCTYPE svg PUBLIC \"-//W3C//DTD SVG 1.1//EN\"\n  \"http://www.w3.org/Graphics/SVG/1.1/DTD/svg11.dtd\">\n<!-- Created with matplotlib (https://matplotlib.org/) -->\n<svg height=\"81.36pt\" version=\"1.1\" viewBox=\"0 0 349.2 81.36\" width=\"349.2pt\" xmlns=\"http://www.w3.org/2000/svg\" xmlns:xlink=\"http://www.w3.org/1999/xlink\">\n <metadata>\n  <rdf:RDF xmlns:cc=\"http://creativecommons.org/ns#\" xmlns:dc=\"http://purl.org/dc/elements/1.1/\" xmlns:rdf=\"http://www.w3.org/1999/02/22-rdf-syntax-ns#\">\n   <cc:Work>\n    <dc:type rdf:resource=\"http://purl.org/dc/dcmitype/StillImage\"/>\n    <dc:date>2021-02-25T22:52:49.015953</dc:date>\n    <dc:format>image/svg+xml</dc:format>\n    <dc:creator>\n     <cc:Agent>\n      <dc:title>Matplotlib v3.3.0, https://matplotlib.org/</dc:title>\n     </cc:Agent>\n    </dc:creator>\n   </cc:Work>\n  </rdf:RDF>\n </metadata>\n <defs>\n  <style type=\"text/css\">*{stroke-linecap:butt;stroke-linejoin:round;}</style>\n </defs>\n <g id=\"figure_1\">\n  <g id=\"patch_1\">\n   <path d=\"M 0 81.36 \nL 349.2 81.36 \nL 349.2 0 \nL 0 0 \nz\n\" style=\"fill:none;\"/>\n  </g>\n  <g id=\"axes_1\">\n   <g clip-path=\"url(#p9ba1c6126e)\">\n    <image height=\"67\" id=\"image2508bef5f6\" transform=\"scale(1 -1)translate(0 -67)\" width=\"335\" x=\"7.2\" xlink:href=\"data:image/png;base64,\niVBORw0KGgoAAAANSUhEUgAAAU8AAABDCAYAAAAceIc9AAABJElEQVR4nO3UMQ0CQQAAwYOWkmAEF3R4exEIwAAJckjeAnjY5o5kRsFWe3i9n9/BGGOMz77PTljGY9tmJyzjcj7NTljG9XafnbCM4+wAgH9kngCBeQIE5gkQmCdAYJ4AgXkCBOYJEJgnQGCeAIF5AgTmCRCYJ0BgngCBeQIE5gkQmCdAYJ4AgXkCBOYJEJgnQGCeAIF5AgTmCRCYJ0BgngCBeQIE5gkQmCdAYJ4AgXkCBOYJEJgnQGCeAIF5AgTmCRCYJ0BgngCBeQIE5gkQmCdAYJ4AgXkCBOYJEJgnQGCeAIF5AgTmCRCYJ0BgngCBeQIE5gkQmCdAYJ4AgXkCBOYJEJgnQGCeAIF5AgTmCRCYJ0BgngCBeQIE5gkQmCdAYJ4AwQ/JqAlNgYhvwQAAAABJRU5ErkJggg==\" y=\"-7.16\"/>\n   </g>\n  </g>\n </g>\n <defs>\n  <clipPath id=\"p9ba1c6126e\">\n   <rect height=\"66.96\" width=\"334.8\" x=\"7.2\" y=\"7.2\"/>\n  </clipPath>\n </defs>\n</svg>\n",
      "image/png": "[encoded data removed]"
     },
     "metadata": {
      "needs_background": "light"
     }
    }
   ],
   "source": [
    "def read_img(i):\n",
    "    \"\"\"\n",
    "    This function reads the corresponding image in the VanGogh folder and return an array\n",
    "    \"\"\"\n",
    "\n",
    "    path = os.path.join(os.getcwd(),'Vincent_van_Gogh','Vincent_van_Gogh_{}.jpg'.format(i+1))\n",
    "    image = cv2.imread(path)\n",
    "    image = cv2.cvtColor(image, cv2.COLOR_BGR2RGB)\n",
    "    modified_image = cv2.resize(image, (600, 400), interpolation = cv2.INTER_AREA)\n",
    "    modified_image = modified_image.reshape(modified_image.shape[0]*modified_image.shape[1], 3)\n",
    "\n",
    "    return modified_image\n",
    "\n",
    "def get_palette(img,n=5):\n",
    "    \"\"\"\n",
    "    This function is used to extract the palette for a given image array,\n",
    "    5 most dominant colors will be returned as default.\n",
    "    \"\"\"\n",
    "\n",
    "    clf = KMeans(n_clusters = 10)    #create KMeans model with n clusters\n",
    "    labels = clf.fit_predict(img)   #get clustering results\n",
    "    counts = Counter(labels)\n",
    "    sorted_counts = sorted(counts, key=counts.get, reverse=True) #sort colors by prevalence\n",
    "    center_colors = clf.cluster_centers_    #calculate the mean RGB code for each cluster, the center\n",
    "    rgb_colors = [center_colors[i] for i in sorted_counts[:n]]    \n",
    "    palette = np.array([rgb_colors])\n",
    "    plt.imshow(palette.astype(int));\n",
    "    plt.axis('off');\n",
    "    plt.show();\n",
    "\n",
    "get_palette(read_img(1))\n"
   ]
  },
  {
   "cell_type": "code",
   "execution_count": 123,
   "metadata": {},
   "outputs": [],
   "source": [
    "# def get_palette_code(img,n=5):\n",
    "#     \"\"\"\n",
    "#     This function is used to extract the palette for a given image array,\n",
    "#     RGBcode of the 5 most dominant colors will be returned as default.\n",
    "#     \"\"\"\n",
    "\n",
    "#     clf = KMeans(n_clusters = 10)    #create KMeans model with n clusters\n",
    "#     labels = clf.fit_predict(img)   #get clustering results\n",
    "#     counts = Counter(labels)\n",
    "#     sorted_counts = sorted(counts, key=counts.get, reverse=True) #sort colors by prevalence\n",
    "#     center_colors = clf.cluster_centers_    #calculate the mean RGB code for each cluster, the center\n",
    "#     rgb_colors = [center_colors[i].astype(int).tolist() for i in sorted_counts[:n]]    \n",
    "#     return [tuple(l) for l in rgb_colors]\n",
    "\n",
    "\n",
    "# VanGogh_palette = []\n",
    "# for i in range(877):\n",
    "#     VanGogh_palette.append(get_palette_code(read_img(i)))\n",
    "\n",
    "    \n"
   ]
  },
  {
   "cell_type": "code",
   "execution_count": 130,
   "metadata": {},
   "outputs": [],
   "source": [
    "with open(\"VanGogh_palette.txt\", \"w\") as f:\n",
    "    for item in VanGogh_palette:\n",
    "        f.write(\"%s\\n\" % item)"
   ]
  },
  {
   "source": [
    "### Reference:\n",
    "[1](https://towardsdatascience.com/color-identification-in-images-machine-learning-application-b26e770c4c71) This notebook is developed based on the method created by Karan Bhanot\n",
    "\n",
    "[2](https://medium.com/pbsh/vangogh-ai-powered-color-palette-generator-57f4118fa62f) This notebook is inspired by Poobesh Gowtham\n"
   ],
   "cell_type": "markdown",
   "metadata": {}
  }
 ]
}