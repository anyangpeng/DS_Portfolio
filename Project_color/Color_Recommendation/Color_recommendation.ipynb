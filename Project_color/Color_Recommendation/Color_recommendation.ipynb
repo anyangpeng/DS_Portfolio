{
 "metadata": {
  "language_info": {
   "codemirror_mode": {
    "name": "ipython",
    "version": 3
   },
   "file_extension": ".py",
   "mimetype": "text/x-python",
   "name": "python",
   "nbconvert_exporter": "python",
   "pygments_lexer": "ipython3",
   "version": "3.8.5-final"
  },
  "orig_nbformat": 2,
  "kernelspec": {
   "name": "python3",
   "display_name": "Python 3.8.5 64-bit",
   "metadata": {
    "interpreter": {
     "hash": "aee8b7b246df8f9039afb4144a1f6fd8d2ca17a180786b69acc140d282b71a49"
    }
   }
  }
 },
 "nbformat": 4,
 "nbformat_minor": 2,
 "cells": [
  {
   "source": [
    "## Recommendation\n",
    "One objective of Project_color is to recommend color schemes for a given color using the popular palette created with VanGogh data"
   ],
   "cell_type": "markdown",
   "metadata": {}
  },
  {
   "cell_type": "code",
   "execution_count": 1,
   "metadata": {},
   "outputs": [],
   "source": [
    "import os\n",
    "import numpy as np\n",
    "import pandas as pd\n",
    "from cleaning_data import datacleaner # User-defined funtion\n",
    "import cv2\n",
    "import matplotlib.pyplot as plt \n"
   ]
  },
  {
   "cell_type": "code",
   "execution_count": 2,
   "metadata": {},
   "outputs": [],
   "source": [
    "path = os.getcwd()\n",
    "file = os.path.join('/'.join(path.split('/')[:-1]),'Color_Identification','VanGogh_palette.txt')\n",
    "\n",
    "rgb = datacleaner(file)"
   ]
  },
  {
   "cell_type": "code",
   "execution_count": 3,
   "metadata": {},
   "outputs": [],
   "source": [
    "def LABdistance(rgb1,rgb2):\n",
    "    \"\"\"\n",
    "    Euclidean distance in LAB space\n",
    "    \"\"\"\n",
    "    c1 = cv2.cvtColor(np.uint8([[rgb1.tolist()]]), cv2.COLOR_RGB2LAB)[0][0]\n",
    "    c2 = cv2.cvtColor(np.uint8([[rgb2.tolist()]]), cv2.COLOR_RGB2LAB)[0][0]\n",
    "    d = sum((rgb1-rgb2)**2)**0.5\n",
    "    return d"
   ]
  },
  {
   "source": [
    "Given a random color (in RGB code), the most intuitive way to recommend matching colors would be to find the most similar color in the VanGogh dataset and locate its palette. The limitation of this method is that only one input color is allowed."
   ],
   "cell_type": "markdown",
   "metadata": {}
  },
  {
   "cell_type": "code",
   "execution_count": 4,
   "metadata": {},
   "outputs": [],
   "source": [
    "def cloest_color(rgb,palette):\n",
    "    \"\"\"\n",
    "    This function calcualte the LAB distatnce between the given rgb code and all \n",
    "    the colors stored in the VanGogh palette dataset.\n",
    "    \"\"\"\n",
    "\n",
    "    c = np.array(rgb)   #convert list input into array\n",
    "    d = []\n",
    "    for i in range(len(palette)):\n",
    "        for j in range(5):\n",
    "            d.append(LABdistance(c,palette[i][j]))\n",
    "    \n",
    "    d =np.array(d).reshape(len(palette),5)\n",
    "    return d"
   ]
  },
  {
   "source": [
    "To validate the *cloest_color* function, the yellow color, RGB:(255,255,0), is used as an example. The result showed the cloest color is RGB:(237,223,54)."
   ],
   "cell_type": "markdown",
   "metadata": {}
  },
  {
   "cell_type": "code",
   "execution_count": 5,
   "metadata": {},
   "outputs": [
    {
     "output_type": "execute_result",
     "data": {
      "text/plain": [
       "(-0.5, 0.5, 1.5, -0.5)"
      ]
     },
     "metadata": {},
     "execution_count": 5
    },
    {
     "output_type": "display_data",
     "data": {
      "text/plain": "<Figure size 432x288 with 1 Axes>",
      "image/svg+xml": "<?xml version=\"1.0\" encoding=\"utf-8\" standalone=\"no\"?>\n<!DOCTYPE svg PUBLIC \"-//W3C//DTD SVG 1.1//EN\"\n  \"http://www.w3.org/Graphics/SVG/1.1/DTD/svg11.dtd\">\n<!-- Created with matplotlib (https://matplotlib.org/) -->\n<svg height=\"231.84pt\" version=\"1.1\" viewBox=\"0 0 123.12 231.84\" width=\"123.12pt\" xmlns=\"http://www.w3.org/2000/svg\" xmlns:xlink=\"http://www.w3.org/1999/xlink\">\n <metadata>\n  <rdf:RDF xmlns:cc=\"http://creativecommons.org/ns#\" xmlns:dc=\"http://purl.org/dc/elements/1.1/\" xmlns:rdf=\"http://www.w3.org/1999/02/22-rdf-syntax-ns#\">\n   <cc:Work>\n    <dc:type rdf:resource=\"http://purl.org/dc/dcmitype/StillImage\"/>\n    <dc:date>2021-02-27T11:45:37.829744</dc:date>\n    <dc:format>image/svg+xml</dc:format>\n    <dc:creator>\n     <cc:Agent>\n      <dc:title>Matplotlib v3.3.0, https://matplotlib.org/</dc:title>\n     </cc:Agent>\n    </dc:creator>\n   </cc:Work>\n  </rdf:RDF>\n </metadata>\n <defs>\n  <style type=\"text/css\">*{stroke-linecap:butt;stroke-linejoin:round;}</style>\n </defs>\n <g id=\"figure_1\">\n  <g id=\"patch_1\">\n   <path d=\"M 0 231.84 \nL 123.12 231.84 \nL 123.12 0 \nL 0 0 \nz\n\" style=\"fill:none;\"/>\n  </g>\n  <g id=\"axes_1\">\n   <g clip-path=\"url(#p77c31973c8)\">\n    <image height=\"218\" id=\"imagea471b394f9\" transform=\"scale(1 -1)translate(0 -218)\" width=\"109\" x=\"7.2\" xlink:href=\"data:image/png;base64,\niVBORw0KGgoAAAANSUhEUgAAAG0AAADaCAYAAACsN8ybAAACFklEQVR4nO3TUQnAMBQEwaai6t9JFVTDq4Z8hYUZBQfLre995iLlPj2AfaIFiRYkWpBoQaIFiRYkWpBoQaIFiRYkWpBoQaIFiRYkWpBoQaIFiRYkWpBoQaIFiRYkWpBoQaIFiRYkWpBoQaIFiRYkWpBoQaIFiRYkWpBoQaIFiRYkWpBoQaIFiRYkWpBoQaIFiRYkWpBoQaIFiRYkWpBoQaIFiRYkWpBoQaIFiRYkWpBoQaIFiRYkWpBoQaIFiRYkWpBoQaIFiRYkWpBoQaIFiRYkWpBoQaIFiRYkWpBoQaIFiRYkWpBoQaIFiRYkWpBoQaIFiRYkWpBoQaIFiRYkWpBoQaIFiRYkWpBoQaIFiRYkWpBoQaIFiRYkWtCaueb0CPZ4WpBoQaIFiRYkWpBoQaIFiRYkWpBoQaIFiRYkWpBoQaIFiRYkWpBoQaIFiRYkWpBoQaIFiRYkWpBoQaIFiRYkWpBoQaIFiRYkWpBoQaIFiRYkWpBoQaIFiRYkWpBoQaIFiRYkWpBoQaIFiRYkWpBoQaIFiRYkWpBoQaIFiRYkWpBoQaIFiRYkWpBoQaIFiRYkWpBoQaIFiRYkWpBoQaIFiRYkWpBoQaIFiRYkWpBoQaIFiRYkWpBoQaIFiRYkWpBoQaIFiRYkWpBoQaIFiRYkWpBoQaIFiRYkWpBoQaIFiRYkWpBoQaIFiRYkWpBoQaIFiRb0A+RbB7Fp9IwJAAAAAElFTkSuQmCC\" y=\"-6.64\"/>\n   </g>\n  </g>\n </g>\n <defs>\n  <clipPath id=\"p77c31973c8\">\n   <rect height=\"217.44\" width=\"108.72\" x=\"7.2\" y=\"7.2\"/>\n  </clipPath>\n </defs>\n</svg>\n",
      "image/png": "[encoded data removed]"
     },
     "metadata": {
      "needs_background": "light"
     }
    }
   ],
   "source": [
    "d = cloest_color([255,255,0],rgb)\n",
    "np.where(d == np.amin(d)) #get the index of the cloest color, eg 166,2\n",
    "rgb[166][2] #get the rgb code for the cloest color using the index\n",
    "plt.imshow(np.array([[(255,255,0)],[(237,223,54)]]))\n",
    "plt.axis('off')"
   ]
  },
  {
   "source": [
    "The next step is to return the matching color using the palette corresponds to the cloest color. This is quite simple, and can be achieved with the index."
   ],
   "cell_type": "markdown",
   "metadata": {}
  },
  {
   "cell_type": "code",
   "execution_count": 6,
   "metadata": {},
   "outputs": [],
   "source": [
    "def recom_res(color,rgb):\n",
    "    d = cloest_color(color,rgb)\n",
    "    index = np.where(d == np.amin(d))\n",
    "    (i,j) = (int(index[0]),int(index[1]))\n",
    "    palette = rgb[i]\n",
    "    res = [[tuple(palette[c].tolist())] for c in range(5) if c != j]\n",
    "    plt.imshow(np.array(res).astype(int))\n",
    "    plt.axis('off')\n"
   ]
  },
  {
   "cell_type": "code",
   "execution_count": 7,
   "metadata": {},
   "outputs": [
    {
     "output_type": "display_data",
     "data": {
      "text/plain": "<Figure size 432x288 with 1 Axes>",
      "image/svg+xml": "<?xml version=\"1.0\" encoding=\"utf-8\" standalone=\"no\"?>\n<!DOCTYPE svg PUBLIC \"-//W3C//DTD SVG 1.1//EN\"\n  \"http://www.w3.org/Graphics/SVG/1.1/DTD/svg11.dtd\">\n<!-- Created with matplotlib (https://matplotlib.org/) -->\n<svg height=\"231.84pt\" version=\"1.1\" viewBox=\"0 0 68.76 231.84\" width=\"68.76pt\" xmlns=\"http://www.w3.org/2000/svg\" xmlns:xlink=\"http://www.w3.org/1999/xlink\">\n <metadata>\n  <rdf:RDF xmlns:cc=\"http://creativecommons.org/ns#\" xmlns:dc=\"http://purl.org/dc/elements/1.1/\" xmlns:rdf=\"http://www.w3.org/1999/02/22-rdf-syntax-ns#\">\n   <cc:Work>\n    <dc:type rdf:resource=\"http://purl.org/dc/dcmitype/StillImage\"/>\n    <dc:date>2021-02-27T11:45:37.982269</dc:date>\n    <dc:format>image/svg+xml</dc:format>\n    <dc:creator>\n     <cc:Agent>\n      <dc:title>Matplotlib v3.3.0, https://matplotlib.org/</dc:title>\n     </cc:Agent>\n    </dc:creator>\n   </cc:Work>\n  </rdf:RDF>\n </metadata>\n <defs>\n  <style type=\"text/css\">*{stroke-linecap:butt;stroke-linejoin:round;}</style>\n </defs>\n <g id=\"figure_1\">\n  <g id=\"patch_1\">\n   <path d=\"M 0 231.84 \nL 68.76 231.84 \nL 68.76 0 \nL 0 0 \nz\n\" style=\"fill:none;\"/>\n  </g>\n  <g id=\"axes_1\">\n   <g clip-path=\"url(#p64389ce851)\">\n    <image height=\"218\" id=\"image7d354c9fc2\" transform=\"scale(1 -1)translate(0 -218)\" width=\"55\" x=\"7.2\" xlink:href=\"data:image/png;base64,\niVBORw0KGgoAAAANSUhEUgAAADcAAADaCAYAAAACAdoaAAABMklEQVR4nO3asQlCQRRFQb/8BsyMrMFWLNjAJuxBEIyNtIplmeVMBffw0redzpffYVHH2QNGKk5VnKo4VXGq4lTFqYpTFacqTlWcqjhVcariVMWpilMVpypOVZyqOFVxquJUxamKUxWnKk5VnGrpuO3+uPZ6LypOVZyqOFVxquJUxamKUxWnKk5VnKo4VXGq4lTFqYpTFacqTlWcqjhVcariVMWpilMVpypOVZxqf35vszcMs/TlilMVpypOVZyqOFVxquJUxamKUxWnKk5VnKo4VXGq4lTFqYpTFacqTlWcqjhVcariVMWpilMVp1o6bn9/XrM3DLP05YpTFacqTlWcqjhVcariVMWpilMVpypOVZyqOFVxquJUxamKUxWnKk5VnKo4VXGq4lTFqYpTFaf6A8cYCo7KmiRaAAAAAElFTkSuQmCC\" y=\"-6.64\"/>\n   </g>\n  </g>\n </g>\n <defs>\n  <clipPath id=\"p64389ce851\">\n   <rect height=\"217.44\" width=\"54.36\" x=\"7.2\" y=\"7.2\"/>\n  </clipPath>\n </defs>\n</svg>\n",
      "image/png": "[encoded data removed]"
     },
     "metadata": {
      "needs_background": "light"
     }
    }
   ],
   "source": [
    "### Recommended results for yellow color\n",
    "recom_res([255,255,0],rgb)"
   ]
  }
 ]
}