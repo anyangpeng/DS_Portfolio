{
 "metadata": {
  "language_info": {
   "codemirror_mode": {
    "name": "ipython",
    "version": 3
   },
   "file_extension": ".py",
   "mimetype": "text/x-python",
   "name": "python",
   "nbconvert_exporter": "python",
   "pygments_lexer": "ipython3",
   "version": "3.8.5-final"
  },
  "orig_nbformat": 2,
  "kernelspec": {
   "name": "python3",
   "display_name": "Python 3.8.5 64-bit",
   "metadata": {
    "interpreter": {
     "hash": "082e9a3bcad0a290d0001e938aa60b99250c6c2ef33a923c00b70f9826caf4b7"
    }
   }
  }
 },
 "nbformat": 4,
 "nbformat_minor": 2,
 "cells": [
  {
   "cell_type": "code",
   "execution_count": 1,
   "metadata": {},
   "outputs": [],
   "source": [
    "#Importing all necessary packages\n",
    "\n",
    "import requests #data scraping\n",
    "from bs4 import BeautifulSoup #data scraping\n",
    "import pandas as pd #Tabulating and manipulating data"
   ]
  },
  {
   "source": [
    "# Objectives\n",
    "\n",
    "# Introduction\n"
   ],
   "cell_type": "markdown",
   "metadata": {}
  },
  {
   "cell_type": "code",
   "execution_count": 2,
   "metadata": {
    "tags": []
   },
   "outputs": [],
   "source": [
    "# Creating connection to data site\n",
    "url = 'https://color.uisdc.com'\n",
    "source = requests.get(url)\n",
    "soup = BeautifulSoup(source.content,'html.parser')\n",
    "\n",
    "#Scraping data\n",
    "color_objects = soup.find_all('div',class_='item item-clr-chuantong copy-color copy-click')\n",
    "\n",
    "Chinese_name = [] #list to store chinese name of the color\n",
    "Hex_code = [] #list to store hex code of the color\n",
    "for color in color_objects:\n",
    "    Chinese_name.append(color.find('h3').text)\n",
    "    Hex_code.append(color.find('h4').text)\n",
    "\n",
    "\n",
    "\n"
   ]
  },
  {
   "cell_type": "code",
   "execution_count": 3,
   "metadata": {},
   "outputs": [],
   "source": [
    "# Creating a function to get the RGB color code from Hex code\n",
    "def hex2rgb(hex):\n",
    "    dic = {'0':0,'1':1,'2':2,'3':3,'4':4,'5':5,'6':6,'7':7,'8':8,'9':9,'a':10,'b':11,'c':12,'d':13,'e':14,'f':15}\n",
    "\n",
    "    hex = hex.lower().split('#')[1]\n",
    "    r = dic[hex[0]]*16 + dic[hex[1]]\n",
    "    g = dic[hex[2]]*16 + dic[hex[3]]\n",
    "    b = dic[hex[4]]*16 + dic[hex[5]]\n",
    "\n",
    "    return (r,g,b)\n",
    "\n",
    "\n"
   ]
  },
  {
   "cell_type": "code",
   "execution_count": 4,
   "metadata": {},
   "outputs": [
    {
     "output_type": "execute_result",
     "data": {
      "text/plain": [
       "    Name_cn  Hexcode          RGBcode\n",
       "0        精白  #ffffff  (255, 255, 255)\n",
       "1        银白  #e9e7ef  (233, 231, 239)\n",
       "2        铅白  #f0f0f4  (240, 240, 244)\n",
       "3        霜色  #e9f1f6  (233, 241, 246)\n",
       "4        雪白  #f0fcff  (240, 252, 255)\n",
       "..      ...      ...              ...\n",
       "158      群青  #4c8dae   (76, 141, 174)\n",
       "159      雪青  #b0a4e3  (176, 164, 227)\n",
       "160     丁香色  #cca4e3  (204, 164, 227)\n",
       "161      藕色  #edd1d8  (237, 209, 216)\n",
       "162     藕荷色  #e4c6d0  (228, 198, 208)\n",
       "\n",
       "[163 rows x 3 columns]"
      ],
      "text/html": "<div>\n<style scoped>\n    .dataframe tbody tr th:only-of-type {\n        vertical-align: middle;\n    }\n\n    .dataframe tbody tr th {\n        vertical-align: top;\n    }\n\n    .dataframe thead th {\n        text-align: right;\n    }\n</style>\n<table border=\"1\" class=\"dataframe\">\n  <thead>\n    <tr style=\"text-align: right;\">\n      <th></th>\n      <th>Name_cn</th>\n      <th>Hexcode</th>\n      <th>RGBcode</th>\n    </tr>\n  </thead>\n  <tbody>\n    <tr>\n      <th>0</th>\n      <td>精白</td>\n      <td>#ffffff</td>\n      <td>(255, 255, 255)</td>\n    </tr>\n    <tr>\n      <th>1</th>\n      <td>银白</td>\n      <td>#e9e7ef</td>\n      <td>(233, 231, 239)</td>\n    </tr>\n    <tr>\n      <th>2</th>\n      <td>铅白</td>\n      <td>#f0f0f4</td>\n      <td>(240, 240, 244)</td>\n    </tr>\n    <tr>\n      <th>3</th>\n      <td>霜色</td>\n      <td>#e9f1f6</td>\n      <td>(233, 241, 246)</td>\n    </tr>\n    <tr>\n      <th>4</th>\n      <td>雪白</td>\n      <td>#f0fcff</td>\n      <td>(240, 252, 255)</td>\n    </tr>\n    <tr>\n      <th>...</th>\n      <td>...</td>\n      <td>...</td>\n      <td>...</td>\n    </tr>\n    <tr>\n      <th>158</th>\n      <td>群青</td>\n      <td>#4c8dae</td>\n      <td>(76, 141, 174)</td>\n    </tr>\n    <tr>\n      <th>159</th>\n      <td>雪青</td>\n      <td>#b0a4e3</td>\n      <td>(176, 164, 227)</td>\n    </tr>\n    <tr>\n      <th>160</th>\n      <td>丁香色</td>\n      <td>#cca4e3</td>\n      <td>(204, 164, 227)</td>\n    </tr>\n    <tr>\n      <th>161</th>\n      <td>藕色</td>\n      <td>#edd1d8</td>\n      <td>(237, 209, 216)</td>\n    </tr>\n    <tr>\n      <th>162</th>\n      <td>藕荷色</td>\n      <td>#e4c6d0</td>\n      <td>(228, 198, 208)</td>\n    </tr>\n  </tbody>\n</table>\n<p>163 rows × 3 columns</p>\n</div>"
     },
     "metadata": {},
     "execution_count": 4
    }
   ],
   "source": [
    "#Tabulating data\n",
    "df = pd.DataFrame(list(zip(Chinese_name,Hex_code)),columns=['Name_cn','Hexcode'])\n",
    "df['RGBcode'] = df.Hexcode.apply(lambda x: hex2rgb(x))\n",
    "df"
   ]
  },
  {
   "cell_type": "code",
   "execution_count": null,
   "metadata": {},
   "outputs": [],
   "source": []
  }
 ]
}